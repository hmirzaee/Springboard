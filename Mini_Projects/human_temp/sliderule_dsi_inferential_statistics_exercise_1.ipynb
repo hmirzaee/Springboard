{
 "cells": [
  {
   "cell_type": "markdown",
   "metadata": {},
   "source": [
    "# What is the True Normal Human Body Temperature? \n",
    "\n",
    "#### Background\n",
    "\n",
    "The mean normal body temperature was held to be 37$^{\\circ}$C or 98.6$^{\\circ}$F for more than 120 years since it was first conceptualized and reported by Carl Wunderlich in a famous 1868 book. But, is this value statistically correct?"
   ]
  },
  {
   "cell_type": "markdown",
   "metadata": {},
   "source": [
    "<h3>Exercises</h3>\n",
    "\n",
    "<p>In this exercise, you will analyze a dataset of human body temperatures and employ the concepts of hypothesis testing, confidence intervals, and statistical significance.</p>\n",
    "\n",
    "<p>Answer the following questions <b>in this notebook below and submit to your Github account</b>.</p> \n",
    "\n",
    "<ol>\n",
    "<li>  Is the distribution of body temperatures normal? \n",
    "    <ul>\n",
    "    <li> Although this is not a requirement for CLT to hold (read CLT carefully), it gives us some peace of mind that the population may also be normally distributed if we assume that this sample is representative of the population.\n",
    "    </ul>\n",
    "<li>  Is the sample size large? Are the observations independent?\n",
    "    <ul>\n",
    "    <li> Remember that this is a condition for the CLT, and hence the statistical tests we are using, to apply.\n",
    "    </ul>\n",
    "<li>  Is the true population mean really 98.6 degrees F?\n",
    "    <ul>\n",
    "    <li> Would you use a one-sample or two-sample test? Why?\n",
    "    <li> In this situation, is it appropriate to use the $t$ or $z$ statistic? \n",
    "    <li> Now try using the other test. How is the result be different? Why?\n",
    "    </ul>\n",
    "<li>  Draw a small sample of size 10 from the data and repeat both tests. \n",
    "    <ul>\n",
    "    <li> Which one is the correct one to use? \n",
    "    <li> What do you notice? What does this tell you about the difference in application of the $t$ and $z$ statistic?\n",
    "    </ul>\n",
    "<li>  At what temperature should we consider someone's temperature to be \"abnormal\"?\n",
    "    <ul>\n",
    "    <li> Start by computing the margin of error and confidence interval.\n",
    "    </ul>\n",
    "<li>  Is there a significant difference between males and females in normal temperature?\n",
    "    <ul>\n",
    "    <li> What test did you use and why?\n",
    "    <li> Write a story with your conclusion in the context of the original problem.\n",
    "    </ul>\n",
    "</ol>\n",
    "\n",
    "You can include written notes in notebook cells using Markdown: \n",
    "   - In the control panel at the top, choose Cell > Cell Type > Markdown\n",
    "   - Markdown syntax: http://nestacms.com/docs/creating-content/markdown-cheat-sheet\n",
    "\n",
    "#### Resources\n",
    "\n",
    "+ Information and data sources: http://www.amstat.org/publications/jse/datasets/normtemp.txt, http://www.amstat.org/publications/jse/jse_data_archive.htm\n",
    "+ Markdown syntax: http://nestacms.com/docs/creating-content/markdown-cheat-sheet\n",
    "\n",
    "****"
   ]
  },
  {
   "cell_type": "code",
   "execution_count": 2,
   "metadata": {
    "collapsed": true
   },
   "outputs": [],
   "source": [
    "import pandas as pd\n",
    "\n",
    "df = pd.read_csv('data/human_body_temperature.csv')"
   ]
  },
  {
   "cell_type": "markdown",
   "metadata": {},
   "source": [
    "### 1. Is the distribution of body temperatures normal?\n",
    "#### Answer: \n",
    "To understand if the distribution of the body temperatures are normal, we first compute the mean and standard deviation of this data. We then assume a normal distribution given these parameters.  We can then compute the PDF based on this data and the actual data. We furtheremore, compare the ECDFs as the latter are not prone to bin bias. "
   ]
  },
  {
   "cell_type": "code",
   "execution_count": 16,
   "metadata": {},
   "outputs": [],
   "source": [
    "def ecdf(x):\n",
    "    \"\"\"compute the ecdf of\n",
    "     data x\n",
    "    \"\"\"\n",
    "    x = np.sort(x)\n",
    "    y = np.arange(1, len(x)+1) /len(x)\n",
    "    \n",
    "    return x,y\n",
    "    "
   ]
  },
  {
   "cell_type": "code",
   "execution_count": 31,
   "metadata": {},
   "outputs": [
    {
     "data": {
      "image/png": "[encoded data removed]",
      "text/plain": [
       "<matplotlib.figure.Figure at 0xac5a9cdd8>"
      ]
     },
     "metadata": {},
     "output_type": "display_data"
    },
    {
     "name": "stdout",
     "output_type": "stream",
     "text": [
      "130\n"
     ]
    }
   ],
   "source": [
    "# Your work here.\n",
    "\n",
    "import matplotlib.pyplot as plt\n",
    "import numpy as np\n",
    "\n",
    "# Compute mean and standard deviation\n",
    "mu = np.mean(np.array(df['temperature']))\n",
    "sigma = np.std(np.array(df['temperature']))\n",
    "\n",
    "# Sample out of a normal distribution with this mu and sigma\n",
    "samples = np.random.normal(mu, sigma, size = 10000)\n",
    "\n",
    "# Get the CDF of the samples and of the data\n",
    "x_theor, y_theor = ecdf(samples)\n",
    "x, y = ecdf(np.array(df['temperature']))\n",
    "\n",
    "_ = plt.plot(x_theor, y_theor)\n",
    "_ = plt.plot(x, y, marker = '.', linestyle = 'none')\n",
    "_ = plt.xlabel('body temperature (F)')\n",
    "_ = plt.ylabel('CDF')\n",
    "\n",
    "#_ = plt.hist(np.array(df['temperature']), bins = 1000, normed = True, histtype='step')\n",
    "plt.show()\n",
    "\n",
    "print(len(df['temperature']))"
   ]
  },
  {
   "cell_type": "code",
   "execution_count": 30,
   "metadata": {},
   "outputs": [
    {
     "data": {
      "image/png": "[encoded data removed]",
      "text/plain": [
       "<matplotlib.figure.Figure at 0xac5d6a3c8>"
      ]
     },
     "metadata": {},
     "output_type": "display_data"
    }
   ],
   "source": [
    "# Compare the PDF\n",
    "_ = plt.hist(samples, bins = 100, normed = True, histtype='step')\n",
    "_ = plt.hist(np.array(df['temperature']), bins = 100, normed = True, histtype='step')\n",
    "plt.show()"
   ]
  },
  {
   "cell_type": "markdown",
   "metadata": {},
   "source": [
    "We can see from the CDF plot, that the results computed based on the actual data, does not perfectly match the theoretical CDF. We can generally observe a shift towards right in the middle region and then a left shift as we move up. Looking at teh PDF plots, we also notice that the distributions are different. But then the questions is, is this difference statistically significant. We can perform additional tests to assess this. one other graphical approach would be to generate Q-Q plots."
   ]
  },
  {
   "cell_type": "code",
   "execution_count": 36,
   "metadata": {},
   "outputs": [
    {
     "data": {
      "image/png": "[encoded data removed]",
      "text/plain": [
       "<matplotlib.figure.Figure at 0xac6372b00>"
      ]
     },
     "metadata": {},
     "output_type": "display_data"
    }
   ],
   "source": [
    "import scipy.stats as stats\n",
    "import pylab\n",
    "_ = stats.probplot(np.array(df['temperature']), dist=\"norm\", plot=pylab)\n",
    "pylab.show()"
   ]
  },
  {
   "cell_type": "markdown",
   "metadata": {},
   "source": [
    "We observe from this plot that measured temperaturs generally stay on the line. A yet better approach would be to perform a statistical test. Here, out null hypothesis would be \"The data is not significantly different that then a normal distribution\". Therefore we want to accept the null hypothesis. In other words, assuming the population has a normal distribution, the probability of seeing such temperature sample measurements should be high (> 0.05)."
   ]
  },
  {
   "cell_type": "code",
   "execution_count": 39,
   "metadata": {},
   "outputs": [
    {
     "name": "stdout",
     "output_type": "stream",
     "text": [
      "Ks_2sampResult(statistic=0.064661538461538437, pvalue=0.64250791608110369)\n"
     ]
    }
   ],
   "source": [
    "print(stats.ks_2samp(np.array(df['temperature']), samples))"
   ]
  },
  {
   "cell_type": "markdown",
   "metadata": {},
   "source": [
    "First value indicates the K-S statistic and the second value is the p-value. Small value of the K-S statistic and high p-value indicates that the null hypothesis cannot be rejected. Therefore, i conclude that the body temperatures have a normal distribution."
   ]
  },
  {
   "cell_type": "markdown",
   "metadata": {},
   "source": [
    "### 2. Is the sample size large? Are the observations independent?\n",
    "\n",
    "#### Answer:\n",
    "\n",
    "One of the assumptions of most tests is that the observations are independent of each other. This assumption is violated when the value of one observation tends to be too similar to the values of other observations. A common source of non-independence is that observations are close together in space or time. Looking at the source article for the data it is described that measurements were done for 140 healthy volunteers. Oral temperatures were measured one to four times daily for 3 consecutive days using an electronic digital thermometer. Therefore, in the sample data it can be that there are several body temperatures reported for the same person under similar thermal conditions, and since these are taken in close time intervals, they can be dependent on each other. \n",
    "\n",
    "The sample size of this data in this exercise is 130, which indicates not a large data set.\n"
   ]
  },
  {
   "cell_type": "markdown",
   "metadata": {},
   "source": [
    "### 3. Is the true population mean really 98.6 degrees F?\n",
    "* Would you use a one-sample or two-sample test? Why?\n",
    "* In this situation, is it appropriate to use the  tt  or  zz  statistic?\n",
    "* Now try using the other test. How is the result be different? Why?\n",
    "\n",
    "#### Answer:\n",
    "For this case, I would use a one-sample test as we would want to compare the mean of the sample temperatures to the true mean value provided. Our null hypothesis states that the two mean values are not significantly different and any observed differecnce is due to chance.T-tests are normally used for sample sizes < 30 and for a sample size of 130 we could compute the z-test assuming that the sample is representative of the population. \n",
    "We will be using a significance level of 0.025 considering a two-tailed test. P-values smaller than this are considered significant. \n",
    "\n",
    "\n"
   ]
  },
  {
   "cell_type": "code",
   "execution_count": 61,
   "metadata": {},
   "outputs": [
    {
     "name": "stdout",
     "output_type": "stream",
     "text": [
      "samples mean value: 98.2492307692\n",
      "T-value :  5.455, p-value: 0.000000241\n",
      "Z-value :  5.455, p-value: 0.000000049\n"
     ]
    }
   ],
   "source": [
    "print(\"samples mean value:\", np.mean(np.array(df['temperature'])))\n",
    "trueMean = 98.6\n",
    "\n",
    "#compute the t-test\n",
    "t = stats.ttest_1samp(np.array(df['temperature']), trueMean)\n",
    "print(\"T-value : %6.3F, p-value: %6.9F\"% (abs(t[0]), t[1]))\n",
    "\n",
    "#computet the z-test\n",
    "from statsmodels.stats.weightstats import ztest\n",
    "z = ztest(np.array(df['temperature']), value=trueMean)\n",
    "print(\"Z-value : %6.3F, p-value: %6.9F\" % (abs(z[0]), z[1]))"
   ]
  },
  {
   "cell_type": "markdown",
   "metadata": {},
   "source": [
    "As can be seen a p-values of 2.41e-07 and 4.90e-08 weres computed, which indicates that the observed result is significant and not due to chance, therefore we reject the null hypothesis.\n",
    "Also note that the t- and the z- values are identical as a t-test with 129 degrees of freedom would roughly model a z-test."
   ]
  },
  {
   "cell_type": "markdown",
   "metadata": {},
   "source": [
    "### 4. Draw a small sample of size 10 from the data and repeat both tests.\n",
    "* Which one is the correct one to use?\n",
    "* What do you notice? What does this tell you about the difference in application of the  t  and  z  statistic?\n",
    "\n",
    "#### Answer:\n",
    "Here the t-test would be more suitable as the sample size of 10 is small (< 30) and therefore the standard deviation of the sample is not an estimate of the population standard deviation."
   ]
  },
  {
   "cell_type": "code",
   "execution_count": 138,
   "metadata": {},
   "outputs": [
    {
     "name": "stdout",
     "output_type": "stream",
     "text": [
      "T-value :  2.973, p-value: 0.015622228\n",
      "Z-value :  2.973, p-value: 0.002947567\n"
     ]
    }
   ],
   "source": [
    "temperature_sample = np.random.choice(np.array(df['temperature']), size = 10, replace = False)\n",
    "\n",
    "#compute the t-test\n",
    "t = stats.ttest_1samp(temperature_sample, trueMean)\n",
    "print(\"T-value : %6.3F, p-value: %6.9F\"% (abs(t[0]), t[1]))\n",
    "\n",
    "#computet the z-test\n",
    "z = ztest(temperature_sample, value=trueMean)\n",
    "print(\"Z-value : %6.3F, p-value: %6.9F\"% (abs(z[0]), z[1]))"
   ]
  },
  {
   "cell_type": "markdown",
   "metadata": {},
   "source": [
    "The p-values of often differ noticaebly which indicates the difference in the shape of the distribution of the t and z values (not normal vs. normal). "
   ]
  },
  {
   "cell_type": "markdown",
   "metadata": {},
   "source": [
    "#### 5. At what temperature should we consider someone's temperature to be \"abnormal\"?\n",
    "* Start by computing the margin of error and confidence interval.\n",
    "\n",
    "We can assume that the distribution of the mean values (if we take multiple set of samples and calculate their means) follows a normal z-distribution (assuming n is large, here n=130 > 30). We can approximate the mean of this mean distribution from the sample temperature data and approximate the standard deviation by computing the standard error of mean (SEM) value (denotes as sigma) below. We then compute the 95% confidence interval, which corresponds to 1.96 times the sigma value on both sides of the mean. "
   ]
  },
  {
   "cell_type": "code",
   "execution_count": 156,
   "metadata": {},
   "outputs": [
    {
     "name": "stdout",
     "output_type": "stream",
     "text": [
      "95% confidence interval (98.123679804428164, 98.374781734033334)\n"
     ]
    }
   ],
   "source": [
    "# Calculating the Margin of error\n",
    "zscore = 1.96 # 95% Confidence level\n",
    "n = 130\n",
    "mean = np.mean(np.array(df['temperature']))\n",
    "sigma = np.std(np.array(df['temperature'])) / np.sqrt(n)\n",
    "\n",
    "# margin of error\n",
    "margin = abs(zscore*sigma)\n",
    "CI = [mean + margin, mean - margin]\n",
    "print(\"95% confidence interval\" , (CI[1],CI[0]))\n",
    "            "
   ]
  },
  {
   "cell_type": "markdown",
   "metadata": {},
   "source": [
    "Therefore we can consider temperatures below 98.12 and above 98.37 as abnormal. We could alternatively use the stats package to comupute the 95% confidence interval. It is worth checking this here to see if we get the same interval values, which is indeed the case."
   ]
  },
  {
   "cell_type": "code",
   "execution_count": 158,
   "metadata": {},
   "outputs": [
    {
     "data": {
      "text/plain": [
       "(98.123196428181629, 98.375265110279869)"
      ]
     },
     "execution_count": 158,
     "metadata": {},
     "output_type": "execute_result"
    }
   ],
   "source": [
    "stats.norm.interval(0.95, loc=np.mean(np.array(df['temperature'])), scale=stats.sem(np.array(df['temperature'])))"
   ]
  },
  {
   "cell_type": "markdown",
   "metadata": {},
   "source": [
    "#### 6. Is there a significant difference between males and females in normal temperature?\n",
    "* What test did you use and why?\n",
    "* Write a story with your conclusion in the context of the original problem\n",
    "\n",
    "#### Answer:\n",
    "A two-sample ztest would be appropriate here as we are now comparing the mean values of the two sample sets, anmes the female temperatures and the male temperatures. A p-value of < 0.025 would be considered significant. Our null hypothesis states that there is no significant difference betwwen the male and female body temperatures."
   ]
  },
  {
   "cell_type": "code",
   "execution_count": 165,
   "metadata": {},
   "outputs": [
    {
     "name": "stdout",
     "output_type": "stream",
     "text": [
      "65 65\n",
      "Z-value :  2.285, p-value: 0.022287361\n"
     ]
    }
   ],
   "source": [
    "# Male temperatures\n",
    "maleT = df.temperature[df.gender == 'M']\n",
    "\n",
    "# Female temperatures\n",
    "femaleT = df.temperature[df.gender == 'F']\n",
    "print(len(maleT),len(femaleT))\n",
    "\n",
    "z = ztest(maleT, femaleT)\n",
    "print(\"Z-value : %6.3F, p-value: %6.9F\"% (abs(z[0]), z[1]))"
   ]
  },
  {
   "cell_type": "markdown",
   "metadata": {},
   "source": [
    "We observe that the p-value is less than 0.025, therefore we may reject the null hypothesis. However the p-values stay pretty close to the confidence level and further tests are necessary in order to conclude that the male and female temperatures are significantly different."
   ]
  }
 ],
 "metadata": {
  "kernelspec": {
   "display_name": "Python 3",
   "language": "python",
   "name": "python3"
  },
  "language_info": {
   "codemirror_mode": {
    "name": "ipython",
    "version": 3
   },
   "file_extension": ".py",
   "mimetype": "text/x-python",
   "name": "python",
   "nbconvert_exporter": "python",
   "pygments_lexer": "ipython3",
   "version": "3.6.3"
  }
 },
 "nbformat": 4,
 "nbformat_minor": 1
}
