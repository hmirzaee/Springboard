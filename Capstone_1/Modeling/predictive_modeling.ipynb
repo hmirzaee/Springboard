{
 "cells": [
  {
   "cell_type": "markdown",
   "metadata": {},
   "source": [
    "### Predictive Modelling for Medicare Hospital Compare data: Can summary star ratings be predicted from hospital measures?\n",
    "\n",
    "I will try to answer the above question by employing various machine learning algorithms and compare their performances. In this notebook I will demonstrate the journey and the experiments I performed on the [Medicare Hospital Compare data](https://www.medicare.gov/hospitalcompare/Data/About.html). At the end I will provide insights as to how these results can be leveraged from the perspective of the customer, e.g. a hospital owner, to derive infomative decisions. \n",
    "\n",
    "#### **Data**:\n",
    "[<span style=\"color:blue\">**hospitals_clean_reordered.csv**</span>](https://goo.gl/4LPE7A) is the dataset file I use in this notebook. It contains the 5 star summary star ratings under a column with the same name and 64 hospital measures, i.e. features of categorical and numerical values. The steps I took to prepare this data file out of the 32 provided original .csv files are provided and explained in the accompanied [<span style=\"color:green\">clean_data.ipynb</span>](https://goo.gl/J2HLjB) notebook. Some explanatory data analysis alongside interesting statistical information on the data can be reviewed in the [<span style=\"color:green\">EDA.ipynb</span>](https://goo.gl/VdDM2P) notebook. Description o fthe abbreviated column names are provided in [<span style=\"color:green\">DataframeColumnDescription.pdf</span>](https://goo.gl/st6hDc).\n"
   ]
  },
  {
   "cell_type": "code",
   "execution_count": 1,
   "metadata": {
    "collapsed": true
   },
   "outputs": [],
   "source": [
    "# Import modules\n",
    "import pandas as pd\n",
    "import matplotlib.pyplot as plt\n",
    "import itertools\n",
    "import seaborn as sns\n",
    "import numpy as np\n",
    "import os\n",
    "\n",
    "import warnings\n",
    "warnings.filterwarnings('ignore')\n",
    "\n",
    "# Figures inline and set visualization style\n",
    "%matplotlib inline\n",
    "sns.set()"
   ]
  },
  {
   "cell_type": "code",
   "execution_count": 2,
   "metadata": {},
   "outputs": [
    {
     "name": "stdout",
     "output_type": "stream",
     "text": [
      "<class 'pandas.core.frame.DataFrame'>\n",
      "RangeIndex: 3490 entries, 0 to 3489\n",
      "Data columns (total 65 columns):\n",
      "Summary star rating                                     3490 non-null int64\n",
      "State                                                   3490 non-null object\n",
      "Hospital Type                                           3490 non-null object\n",
      "Hospital Ownership                                      3490 non-null object\n",
      "Emergency Services                                      3490 non-null object\n",
      "Meets criteria for meaningful use of EHRs               3464 non-null object\n",
      "Mortality national comparison                           3110 non-null object\n",
      "Safety of care national comparison                      2630 non-null object\n",
      "Readmission national comparison                         3240 non-null object\n",
      "Effectiveness of care national comparison               3196 non-null object\n",
      "Timeliness of care national comparison                  3107 non-null object\n",
      "Efficient use of medical imaging national comparison    2656 non-null object\n",
      "OP_12                                                   3113 non-null object\n",
      "SM_PART_NURSE                                           3153 non-null object\n",
      "OP_17                                                   3110 non-null object\n",
      "SM_PART_GEN_SURG                                        3151 non-null object\n",
      "SM_SS_CHECK                                             3164 non-null object\n",
      "OP_25                                                   3128 non-null object\n",
      "MORT_30_PN                                              3297 non-null float64\n",
      "PSI_11_POST_RESP                                        2655 non-null float64\n",
      "PSI_6_IAT_PTX                                           3012 non-null float64\n",
      "PSI_13_POST_SEPSIS                                      2653 non-null float64\n",
      "COMP_HIP_KNEE                                           2697 non-null float64\n",
      "PSI_3_ULCER                                             3002 non-null float64\n",
      "PSI_12_POSTOP_PULMEMB_DVT                               2909 non-null float64\n",
      "MORT_30_CABG                                            1031 non-null float64\n",
      "PSI_10_POST_KIDNEY                                      2680 non-null float64\n",
      "MORT_30_STK                                             2626 non-null float64\n",
      "PSI_14_POSTOP_DEHIS                                     2307 non-null float64\n",
      "MORT_30_HF                                              3200 non-null float64\n",
      "PSI_90_SAFETY                                           3017 non-null float64\n",
      "PSI_15_ACC_LAC                                          2393 non-null float64\n",
      "MORT_30_COPD                                            3167 non-null float64\n",
      "PSI_8_POST_HIP                                          2948 non-null float64\n",
      "MORT_30_AMI                                             2341 non-null float64\n",
      "PSI_4_SURG_COMP                                         1457 non-null float64\n",
      "PSI_9_POST_HEM                                          2905 non-null float64\n",
      "HAI_1_SIR                                               2018 non-null float64\n",
      "HAI_3_SIR                                               1892 non-null float64\n",
      "HAI_2_SIR                                               2274 non-null float64\n",
      "HAI_4_SIR                                               768 non-null float64\n",
      "HAI_5_SIR                                               1680 non-null float64\n",
      "HAI_6_SIR                                               2984 non-null float64\n",
      "EDAC_30_AMI                                             2134 non-null float64\n",
      "READM_30_AMI                                            2134 non-null float64\n",
      "EDAC_30_HF                                              3220 non-null float64\n",
      "READM_30_CABG                                           1026 non-null float64\n",
      "READM_30_HOSP_WIDE                                      3480 non-null float64\n",
      "READM_30_HIP_KNEE                                       2707 non-null float64\n",
      "READM_30_COPD                                           3193 non-null float64\n",
      "READM_30_STK                                            2562 non-null float64\n",
      "READM_30_HF                                             3220 non-null float64\n",
      "READM_30_PN                                             3302 non-null float64\n",
      "MSPB_1                                                  2969 non-null float64\n",
      "OP_10                                                   3198 non-null float64\n",
      "OP_8                                                    1524 non-null float64\n",
      "OP_13                                                   2240 non-null float64\n",
      "OP_9                                                    2857 non-null float64\n",
      "OP_14                                                   2431 non-null float64\n",
      "OP_11                                                   3062 non-null float64\n",
      "OP_20                                                   3184 non-null float64\n",
      "OP_21                                                   3114 non-null float64\n",
      "OP_22                                                   3076 non-null float64\n",
      "OP_5                                                    2142 non-null float64\n",
      "OP_4                                                    2104 non-null float64\n",
      "dtypes: float64(47), int64(1), object(17)\n",
      "memory usage: 1.7+ MB\n"
     ]
    }
   ],
   "source": [
    "# Import data\n",
    "d = os.path.dirname(os.getcwd())\n",
    "data_file = os.path.join(d, 'data','processed','hospitals_clean_reordered.csv')\n",
    "df_hospital = pd.read_csv(data_file)\n",
    "\n",
    "# View first lines of data\n",
    "df_hospital.head(n=4)\n",
    "df_hospital.info()"
   ]
  },
  {
   "cell_type": "markdown",
   "metadata": {},
   "source": [
    "#### Preparing data for sklearn\n",
    "In the following cells I prepare the data for sklearn modelling toolkit. For the sake of experiment I the 2d array **X** holds only the numerical features and the array **X_all** contains all the 65 measures. There are a total of 3490 hospitals (row entry) with the following star ratings distribution:\n",
    "\n",
    "|Summary star rating|Number of hospitals|\n",
    "|-------------------|-------------------|\n",
    "|<center>1</center> | <center>55</center>|\n",
    "|<center>2</center> | <center>525</center>|\n",
    "|<center>3</center> | <center>1380</center>|\n",
    "|<center>4</center> | <center>1335</center>|\n",
    "|<center>5</center> | <center>195</center>|\n",
    "\n",
    "<span style=\"color:IndianRed\">**Note on missing values:**</span> As can be seen from the data, there are a number of missing values. During modelling different imputation strategies will be explores to account for the missing values. Removing all the featuers with any missing value is simply not an option as we are left only with 100 datasets. On the other hand some hospital measures such as HAI_4_SIR (surgical site infection from abdominal hysterectomy) or MORT_30_CABG (death rate for coronary artery bypass graft surgery patients) have more than 50% of their values missing. Data imputation for these features might not be reasonable and I will explore with the impact of removing these features on the modelling results. \n",
    "\n",
    "<span style=\"color:IndianRed\">**Note on highly correlated features:**</span> Looking at the correlation matrix from the EDA analysis, seems like there is no need to worry about highly correlated features as there are no highly (absolute Pearson-corr > 0.8) correlated features and there is only one pair with correlation above 0.7 (PST_11_POST_RESP, PSI_90_SAFETY), which describe respiratory failure after surgery and serious complications respectively. I will regardless experiment with removing one of these two and investigate the impact.\n",
    "\n",
    "<span style=\"color:IndianRed\">**Note on categorical features:**</span> pandas get_dummies() is used to produce a one-hot encoding of the categorical features, with the exception of the 6 natoinal level categorical features (e.g. Mortality national comparison) where a separate mapping funtion is used to respect the ordering between the feature values. "
   ]
  },
  {
   "cell_type": "code",
   "execution_count": 3,
   "metadata": {},
   "outputs": [
    {
     "name": "stdout",
     "output_type": "stream",
     "text": [
      "3    1380\n",
      "4    1335\n",
      "2     525\n",
      "5     195\n",
      "1      55\n",
      "Name: Summary star rating, dtype: int64\n",
      "[[  3.    15.4   10.3  ...,   5.      nan    nan]\n",
      " [  4.    20.2   12.93 ...,   2.    14.    98.  ]\n",
      " [  3.    17.1     nan ...,   1.      nan    nan]\n",
      " ..., \n",
      " [  4.      nan    nan ...,   1.     7.    94.  ]\n",
      " [  4.    14.8     nan ...,    nan  13.    97.  ]\n",
      " [  4.      nan    nan ...,    nan  10.    97.  ]]\n",
      "Dimensions of y: (3490,)\n",
      "Dimension of X: (3490, 48)\n",
      "df shape after dropping NaN: (100, 48)\n"
     ]
    }
   ],
   "source": [
    "# y holds the response variable- in this case this is the Summary star ratings\n",
    "print(df_hospital['Summary star rating'].value_counts())\n",
    "df_hospital['Summary star rating'] = df_hospital['Summary star rating']\n",
    "y = pd.to_numeric(df_hospital['Summary star rating']).values\n",
    "y = y.ravel()\n",
    "\n",
    "# X hold the numerical features\n",
    "df_numerics_only = df_hospital.select_dtypes(include=[np.number])\n",
    "X = df_numerics_only.values\n",
    "print(X)\n",
    "print(\"Dimensions of y: {}\".format(y.shape))\n",
    "print(\"Dimension of X: {}\".format(X.shape))\n",
    "#df_numerics_only.info()\n",
    "\n",
    "# Drop missing values\n",
    "df_numerics_noNan = df_numerics_only.dropna()\n",
    "print(\"df shape after dropping NaN: {}\".format(df_numerics_noNan.shape))"
   ]
  },
  {
   "cell_type": "code",
   "execution_count": 4,
   "metadata": {},
   "outputs": [
    {
     "name": "stdout",
     "output_type": "stream",
     "text": [
      "Dimensions of y: (3490,)\n",
      "Dimension of X_all: (3490, 121)\n",
      "Feature names: Index(['Mortality national comparison', 'Safety of care national comparison',\n",
      "       'Readmission national comparison',\n",
      "       'Effectiveness of care national comparison',\n",
      "       'Timeliness of care national comparison',\n",
      "       'Efficient use of medical imaging national comparison', 'MORT_30_PN',\n",
      "       'PSI_11_POST_RESP', 'PSI_6_IAT_PTX', 'PSI_13_POST_SEPSIS',\n",
      "       ...\n",
      "       'Hospital Ownership_Voluntary non-profit - Church',\n",
      "       'Hospital Ownership_Voluntary non-profit - Other',\n",
      "       'Hospital Ownership_Voluntary non-profit - Private',\n",
      "       'Emergency Services_Yes', 'OP_12_Yes', 'SM_PART_NURSE_Y', 'OP_17_Yes',\n",
      "       'SM_PART_GEN_SURG_Y', 'SM_SS_CHECK_Y', 'OP_25_Yes'],\n",
      "      dtype='object', length=121)\n"
     ]
    }
   ],
   "source": [
    "# Now consider the categorical variables\n",
    "# X_all holds all features including categorical variables\n",
    "df = df_hospital.drop('Summary star rating', axis=1)\n",
    "\n",
    "# National categorical features are ordinal therefore a separate mapping function will be used for them\n",
    "national_mapping = {'Below the national average': 1,\n",
    "                    'Same as the national average': 2,\n",
    "                    'Above the national average': 3}\n",
    "national_features = ['Mortality national comparison',\n",
    "                     'Safety of care national comparison',\n",
    "                     'Readmission national comparison',\n",
    "                     'Effectiveness of care national comparison',\n",
    "                     'Timeliness of care national comparison',\n",
    "                     'Efficient use of medical imaging national comparison']\n",
    "for col in national_features:\n",
    "    df[col] = df[col].map(national_mapping)\n",
    "\n",
    "# Generate a one-hot encoding of the other categorical features\n",
    "df2 = pd.get_dummies(df, drop_first=True)\n",
    "\n",
    "X_all = df2.values\n",
    "feature_names_all =  df2.columns\n",
    "print(\"Dimensions of y: {}\".format(y.shape))\n",
    "print(\"Dimension of X_all: {}\".format(X_all.shape))\n",
    "print(\"Feature names:\",feature_names_all)\n"
   ]
  },
  {
   "cell_type": "code",
   "execution_count": 5,
   "metadata": {},
   "outputs": [],
   "source": [
    "# Additional feature arrays where the features with too many missing values are removed\n",
    "def remove_missing_features(df,Threshold = 0.5):\n",
    "    \"\"\"\n",
    "    This function returns the reduced feature array\n",
    "    where the columns with missing features more than \n",
    "    a Threshold value are removed\n",
    "    \"\"\"\n",
    "    pct_null = df.isnull().sum() / len(df)\n",
    "    missing_features = pct_null[pct_null > Threshold].index\n",
    "    df_tmp = df.drop(missing_features, axis=1)\n",
    "    df_tmp.info()\n",
    "    df_tmp = pd.get_dummies(df_tmp, drop_first=True)\n",
    "    X_less = df_tmp.values\n",
    "    feature_names =  df_tmp.columns\n",
    "    \n",
    "    return df_tmp, X_less, feature_names \n"
   ]
  },
  {
   "cell_type": "code",
   "execution_count": 6,
   "metadata": {},
   "outputs": [],
   "source": [
    "def remove_correlated_features(df, Threshold = 0.7):\n",
    "    \n",
    "    \"\"\"\n",
    "    This function returns the reduced feature array\n",
    "    where the first column in the highly correlated \n",
    "    columns are removed\n",
    "    \"\"\" \n",
    "    #df_numerics_only = df_numerics_only.apply(lambda x: x.fillna(x.mean()),axis=0)\n",
    "    df_numerics_only = df_numerics_only.apply(lambda x:x.fillna(x.value_counts().index[0]))\n",
    "    corr_matrix = df_numerics_only.corr().abs()\n",
    "    high_corr_var=np.where(corr_matrix > Threshold)\n",
    "    high_corr_var=[(corr_matrix.columns[x],corr_matrix.columns[y]) for x,y in zip(*high_corr_var) if x!=y and x<y]\n",
    "    correlated_features =[i[0] for i in high_corr_var]\n",
    "    print(correlated_features)\n",
    "\n",
    "    df_tmp = df.drop(correlated_features, axis=1)\n",
    "    X_less = df_tmp.values\n",
    "    feature_names =  df_tmp.columns\n",
    "\n",
    "    return df_tmp, X_less, feature_names"
   ]
  },
  {
   "cell_type": "markdown",
   "metadata": {},
   "source": [
    "#### Dealing with imbalanced dataset\n",
    "As can be seen from the above table majority of the hospitals have either rating 3 or 4. Consequently, there are not enough data for ratings 1 and 5 for the ML-based model to learn from. Consequently, I will consider a number of measures to handle the problem of imbalance dataset. I will group these into the following categories:\n",
    "1. Combining class ratings. For this I combine ratings 1 and 2, and 4 and 5 together. We can view the results of the predictive modeling in this as to classify a hospital into below average rating, average rating, and abvove average rating:\n",
    "\n",
    "|New star rating|Number of hospitals|\n",
    "|-------------------|-------------------|\n",
    "|<center>1</center> | <center>580</center>|\n",
    "|<center>2</center> | <center>1380</center>|\n",
    "|<center>3</center> | <center>1535</center>|\n",
    "\n",
    "2. Using resampling techniques to upsample the minority classes (i.e. 1 and 4). A common algorithm to use here is [SMOTE](https://goo.gl/COC7iA) that oversamples the minority class through synthesizing samples using a k nearest neighbor approach. A combination of [oversampling and undersampling](https://goo.gl/aG1tpj) could also be tried here to decrease the impact of noisy synthetic data. \n",
    "3. There exist also variants of known classifers where a resampling techniques is integrated and will be applied during the fit time, such as [BalancedBaggingClassifier](https://goo.gl/gCALht) whicht can also be investigated here."
   ]
  },
  {
   "cell_type": "code",
   "execution_count": 7,
   "metadata": {},
   "outputs": [
    {
     "name": "stdout",
     "output_type": "stream",
     "text": [
      "3    1380\n",
      "4    1335\n",
      "2     525\n",
      "5     195\n",
      "1      55\n",
      "Name: Summary star rating, dtype: int64\n",
      "3    1530\n",
      "2    1380\n",
      "1     580\n",
      "Name: Summary star rating, dtype: int64\n"
     ]
    }
   ],
   "source": [
    "# Combine the ratings for experiment\n",
    "print(df_hospital['Summary star rating'].value_counts())\n",
    "df2 = df_hospital.copy()\n",
    "df2.loc[:,'Summary star rating'] = df_hospital.loc[:,'Summary star rating'].replace([2, 3, 4, 5], [1, 2, 3, 3])\n",
    "print(df2['Summary star rating'].value_counts())"
   ]
  },
  {
   "cell_type": "code",
   "execution_count": 8,
   "metadata": {
    "collapsed": true
   },
   "outputs": [],
   "source": [
    "y_three_ranks = df2['Summary star rating'].values\n",
    "y_three_ranks = y_three_ranks.ravel()"
   ]
  },
  {
   "cell_type": "code",
   "execution_count": 9,
   "metadata": {
    "collapsed": true
   },
   "outputs": [],
   "source": [
    "# Some resampling techniques to address the problem of the imbalanced dataset\n",
    "from imblearn.over_sampling import RandomOverSampler\n",
    "from imblearn.over_sampling import SMOTE\n",
    "from imblearn.under_sampling import RandomUnderSampler\n",
    "from imblearn.combine import SMOTEENN\n",
    "from imblearn.combine import SMOTETomek\n",
    "from sklearn.preprocessing import Imputer\n",
    "from collections import Counter\n",
    "\n",
    "def resample_data(X,y,scheme='SMOTE', imp_strategy='most_frequent'):\n",
    "    \n",
    "    X_resampled = X\n",
    "    y_resampled = y\n",
    "    imp = Imputer(missing_values='NaN', strategy=imp_strategy, axis=0)\n",
    "    imp.fit(X)\n",
    "    X_resampled = imp.transform(X)\n",
    "\n",
    "    if scheme == 'SMOTE':\n",
    "        X_resampled, y_resampled = SMOTE(random_state=0).fit_sample(X_resampled, y)\n",
    "        \n",
    "    elif scheme == 'ENN':\n",
    "        X_resampled, y_resampled = SMOTEENN(random_state=0).fit_sample(X_resampled, y)\n",
    "    \n",
    "    elif scheme == 'TOMEK':\n",
    "        X_resampled, y_resampled = SMOTETomek(random_state=0).fit_sample(X_resampled, y)\n",
    "    \n",
    "    elif scheme == 'RANDOM':\n",
    "        ros = RandomOverSampler(random_state=0)\n",
    "        X_resampled, y_resampled = ros.fit_sample(X_resampled, y)\n",
    "        \n",
    "    elif scheme == 'UNDER' :\n",
    "        rus = RandomUnderSampler(return_indices=True)\n",
    "        X_resampled, y_resampled, idx_resampled = rus.fit_sample(X_resampled, y)\n",
    "    \n",
    "    \n",
    "    print(\"Dimensions of y_ros: {}\".format(y_resampled.shape))\n",
    "    print(\"Dimension of X_ros: {}\".format(X_resampled.shape))\n",
    "    print(sorted(Counter(y_resampled).items()))\n",
    "    \n",
    "    return X_resampled, y_resampled"
   ]
  },
  {
   "cell_type": "code",
   "execution_count": 10,
   "metadata": {
    "collapsed": true
   },
   "outputs": [],
   "source": [
    "# Plot Confusion matrix \n",
    "def plot_confusion_matrix(cm, classes,\n",
    "                          normalize=False,\n",
    "                          title='Confusion matrix',\n",
    "                          cmap=plt.cm.Blues):\n",
    "    \"\"\"\n",
    "    This function prints and plots the confusion matrix.\n",
    "    Normalization can be applied by setting `normalize=True`.\n",
    "    \"\"\"\n",
    "    if normalize:\n",
    "        cm = cm.astype('float') / cm.sum(axis=1)[:, np.newaxis]\n",
    "        print(\"Normalized confusion matrix\")\n",
    "    else:\n",
    "        print('Confusion matrix, without normalization')\n",
    "\n",
    "    print(cm)\n",
    "\n",
    "    plt.imshow(cm, interpolation='nearest', cmap=cmap)\n",
    "    plt.title(title)\n",
    "    plt.colorbar()\n",
    "    tick_marks = np.arange(len(classes))\n",
    "    plt.xticks(tick_marks, classes, rotation=45)\n",
    "    plt.yticks(tick_marks, classes)\n",
    "\n",
    "    fmt = '.2f' if normalize else 'd'\n",
    "    thresh = cm.max() / 2.\n",
    "    for i, j in itertools.product(range(cm.shape[0]), range(cm.shape[1])):\n",
    "        plt.text(j, i, format(cm[i, j], fmt),\n",
    "                 horizontalalignment=\"center\",\n",
    "                 color=\"white\" if cm[i, j] > thresh else \"black\")\n",
    "\n",
    "    plt.tight_layout()\n",
    "    plt.ylabel('True label')\n",
    "    plt.xlabel('Predicted label')"
   ]
  },
  {
   "cell_type": "markdown",
   "metadata": {},
   "source": [
    "#### Modeling\n",
    "<span style=\"color:blue\">**apply_model**</span> defined below is the main function to be used for applying different classifiers to the data. It will receive a python pipeline object alongside the specific parameters of the classifier and performs a grid search with cross-validation on the training set to tune hyperparameters. The result of the performance of the model on a separate test data (unseen data) is reported in terms of accuracy and confusion-matrix. There is also a nested cross-validation feature available, which when is turned on, can be used to compare the performance between different classifers (e.g. SVM vs RandomForests). The nested cross-validation is performed on the training data and according to [Varma and Simon](https://goo.gl/oAncdJ) provides a true unbiased error of the estimate (i.e. classifier), and is therefore useful to be used when selecting between different classification algorithms. "
   ]
  },
  {
   "cell_type": "code",
   "execution_count": 33,
   "metadata": {
    "collapsed": true
   },
   "outputs": [],
   "source": [
    "# Construct the pipeline with SVM\n",
    "from sklearn.model_selection import train_test_split, GridSearchCV, RandomizedSearchCV, validation_curve, learning_curve, KFold, cross_val_score, StratifiedKFold\n",
    "from sklearn.preprocessing import Imputer,StandardScaler\n",
    "from sklearn import svm\n",
    "from sklearn.multiclass import OneVsRestClassifier\n",
    "from sklearn import feature_selection\n",
    "from sklearn.pipeline import Pipeline\n",
    "from sklearn.metrics import classification_report, confusion_matrix, accuracy_score, roc_auc_score, auc\n",
    "from sklearn.linear_model import Ridge\n",
    "from matplotlib.pylab import rcParams\n",
    "from sklearn.model_selection import StratifiedKFold\n",
    "from sklearn.metrics import fbeta_score, make_scorer, precision_score, cohen_kappa_score, f1_score, recall_score, jaccard_similarity_score, mean_squared_error, explained_variance_score, mean_squared_log_error, r2_score, mean_absolute_error \n",
    "from sklearn.preprocessing import label_binarize\n",
    "\n",
    "#rcParams['figure.figsize'] = 20, 4\n",
    "score_func = precision_score\n",
    "\n",
    "def apply_model(X, y, pipeline, parameters, classes = ['1', '2', '3', '4', '5'], kfold = 10, scoring = score_func, \n",
    "                valid_param_name=None, grid_score = True, valid_curve = False,  learn_curve = False, classification=True, \n",
    "                train_sizes=np.linspace(.1, 1.0, 5), feature_imp=False, feature_names=feature_names_all, nested = False,\n",
    "                resample = False, randomized_search = False, random_state=12):\n",
    "    \n",
    "    \"\"\"fit the model to the data\n",
    "       and print out the performance measures\n",
    "    \"\"\"       \n",
    "    \n",
    "    # Create train and test sets\n",
    "    X_train, X_test, y_train, y_test = train_test_split(X, y, test_size=0.2, random_state=random_state, stratify=y)\n",
    "    \n",
    "    # Complete the steps for resampling\n",
    "    #if resample:\n",
    "        #X_train, y_train = resample_data(X_train,y_train,scheme='ENN', imp_strategy='most_frequent')\n",
    "        \n",
    "    \n",
    "    inner_cv = StratifiedKFold(n_splits=kfold, shuffle=True, random_state=random_state)\n",
    "    \n",
    "    # Instantiate the GridSearchCV object: cv\n",
    "    #StratifiedKFold(n_splits=kfold, random_state=0, shuffle=True)\n",
    "    #scorer = make_scorer(score_func=precision_score, average='micro') \n",
    "    #scorer = make_scorer(score_func=cohen_kappa_score)\n",
    "    scorer = make_scorer(score_func=score_func) \n",
    "    if classification:\n",
    "        scorer = make_scorer(score_func=score_func, average='micro') \n",
    "       \n",
    "    #scorer = make_scorer(score_func=score_func, average='micro') \n",
    "    #scorer = make_scorer(score_func=score_func, average='micro', beta=0.5)\n",
    "    #cv = GridSearchCV(pipeline, parameters, scoring=scorer, cv=kfold, return_train_score=True)\n",
    "    clf = GridSearchCV(pipeline, parameters, scoring=scorer, cv=inner_cv, n_jobs=4)\n",
    "    if randomized_search:\n",
    "        clf = RandomizedSearchCV(pipeline, parameters, scoring=scorer, cv=inner_cv, n_jobs=4)\n",
    "    \n",
    "    # Nested cross-validation to get an un-biased metric for model performance. \n",
    "    # This is useful to compare the performance of different Classifiers\n",
    "    # This approach can also be used for selecting the winning model\n",
    "    if nested: \n",
    "        outer_cv = StratifiedKFold(n_splits= 5, shuffle=True, random_state=random_state)\n",
    "        nested_scores = cross_val_score(clf, X=X_train, y=y_train, cv=outer_cv, n_jobs=4, scoring=scorer)\n",
    "        print(\"Model performance via nested cross-validaton mean score:%0.3f (+/-%0.03f)\" % (np.mean(nested_scores), np.std(nested_scores)))\n",
    "      \n",
    "\n",
    "    # Fit to the training set\n",
    "    clf.fit(X_train, y_train)\n",
    "\n",
    "    # Predict the labels of the test set: y_pred\n",
    "    y_pred = clf.predict(X_test)\n",
    "    #y_pred_proba = cv.predict_proba(X_test)\n",
    "    \n",
    "    # Compute and print metrics\n",
    "    #print(\"Accuracy: %0.2f (+/- %0.2f)\" % (scores.mean(), scores.std() * 2))\n",
    "    if classification == False: # if it\"s a regression problem\n",
    "        #y_pred = [np.round(y) for y in y_pred]\n",
    "        y_pred = [ 1 if y < 1 else np.round(y) for y in y_pred ]\n",
    "        \n",
    "        \n",
    "        \n",
    "    accuracy = accuracy_score(y_test, y_pred)\n",
    "    #print(\"Accuracy: %.2f%%\" % (accuracy * 100.0))\n",
    "    print(\"Accuracy on the test data: {}\".format(accuracy * 100.0))\n",
    "    #(\"AUC: {}\".format(roc_auc_score(y_test,y_pred_proba)))\n",
    "    print(\"Tuned model Parameters: {}\".format(clf.best_params_))\n",
    "    \n",
    "    # Compute confusion matrix\n",
    "    cnf_matrix = [[]]\n",
    "    \n",
    "    print(classification_report(y_test, y_pred))\n",
    "    cnf_matrix = confusion_matrix(y_test, y_pred)\n",
    "    plt.figure()\n",
    "    plot_confusion_matrix(cnf_matrix, classes=classes, normalize=True,\n",
    "                          title='Normalized confusion matrix')\n",
    "    plt.show()\n",
    "        \n",
    "    if grid_score:\n",
    "        # Grid Scores\n",
    "        print('cross-validaiton scores:')\n",
    "        means_valid = clf.cv_results_['mean_test_score']\n",
    "        stds_valid = clf.cv_results_['std_test_score']\n",
    "        for mean_valid, std_valid, params in zip(means_valid, stds_valid, clf.cv_results_['params']):\n",
    "            print(\"%0.3f (+/-%0.03f) for %r\" % (mean_valid, std_valid * 2, params))\n",
    "            \n",
    "        print('training scores:')\n",
    "        means_train = clf.cv_results_['mean_train_score']\n",
    "        stds_train = clf.cv_results_['std_train_score']    \n",
    "        for mean_train, std_train, params in zip(means_train, stds_train, clf.cv_results_['params']):\n",
    "            print(\"%0.3f (+/-%0.03f) for %r\" % (mean_train, std_train * 2, params))\n",
    "            \n",
    "    if valid_curve:\n",
    "        plt.title(\"Validation Curve\")\n",
    "        plt.xlabel(\"Parameter\")\n",
    "        plt.ylabel(\"Score\")\n",
    "        plt.ylim(0.0, 1.1)\n",
    "        plt.semilogx(parameters[valid_param_name], means_train, label=\"Training score\", color=\"r\")\n",
    "        plt.fill_between(parameters[valid_param_name], means_train - stds_train,\n",
    "                         means_train + stds_train, alpha=0.2, color=\"r\")\n",
    "        plt.semilogx(parameters[valid_param_name], means_valid, label=\"Cross-validation score\", color=\"g\")\n",
    "        plt.fill_between(parameters[valid_param_name], means_valid - stds_valid,\n",
    "                         means_valid + stds_valid, alpha=0.2, color=\"g\")\n",
    "        plt.legend(loc=\"best\")\n",
    "        plt.show()\n",
    "        \n",
    "    if learn_curve:\n",
    "        train_sizes, train_scores, valid_scores = learning_curve(clf, X_train, y_train, cv=kfold, train_sizes=train_sizes)\n",
    "        train_scores_mean = np.mean(train_scores, axis=1)\n",
    "        train_scores_std = np.std(train_scores, axis=1)\n",
    "        valid_scores_mean = np.mean(valid_scores, axis=1)\n",
    "        valid_scores_std = np.std(valid_scores, axis=1)\n",
    "        plt.title(\"Learning Curve\")\n",
    "        plt.xlabel(\"Training examples\")\n",
    "        plt.ylabel(\"Score\")\n",
    "        #plt.grid()\n",
    "        plt.fill_between(train_sizes, train_scores_mean - train_scores_std,\n",
    "                         train_scores_mean + train_scores_std, alpha=0.1,\n",
    "                         color=\"r\")\n",
    "        plt.fill_between(train_sizes, valid_scores_mean - valid_scores_std,\n",
    "                         valid_scores_mean + valid_scores_std, alpha=0.1, color=\"g\")\n",
    "        plt.plot(train_sizes, train_scores_mean, 'o-', color=\"r\",\n",
    "                 label=\"Training score\")\n",
    "        plt.plot(train_sizes, valid_scores_mean, 'o-', color=\"g\",\n",
    "                 label=\"Cross-validation score\")\n",
    "\n",
    "        plt.legend(loc=\"best\")\n",
    "        \n",
    "    if feature_imp:\n",
    "        plt.figure()\n",
    "        rcParams['figure.figsize'] = 20, 4\n",
    "        feat_imp = pd.Series(cv.best_estimator_feature_importances_, feature_names).sort_values(ascending=False)\n",
    "        feat_imp.plot(kind='bar', title='Feature Importances')\n",
    "        plt.ylabel('Feature Importance Score')\n",
    "                \n",
    "       \n",
    "    return cnf_matrix, clf"
   ]
  },
  {
   "cell_type": "code",
   "execution_count": null,
   "metadata": {
    "collapsed": true
   },
   "outputs": [],
   "source": [
    "def apply_model_with_resampling(X, y, pipeline, parameters, classes = ['1', '2', '3', '4', '5'], \n",
    "                                random_state=[12, 20, 42], scheme = 'SMOTE'):\n",
    "    \n",
    "    X_train, X_test, y_train, y_test = train_test_split(X, y, test_size=0.2, random_state=random_state, stratify=y)\n",
    "    \n",
    "    # resample the training data\n",
    "    X_train, y_train = resample_data(X_train, y_train, scheme=scheme, imp_strategy='most_frequent')\n",
    "    \n",
    "    clf = pipeline.set_params(parameters)\n",
    "    clf.fit(X_train, y_train)\n",
    "    \n",
    "    # Predict the labels of the test set: y_pred\n",
    "    y_pred = clf.predict(X_test)\n",
    "    \n",
    "    accuracy = accuracy_score(y_test, y_pred)\n",
    "    print(\"Accuracy on the test data: {}\".format(accuracy * 100.0))\n",
    "    \n",
    "    print(classification_report(y_test, y_pred))\n",
    "    cnf_matrix = confusion_matrix(y_test, y_pred)\n",
    "    plt.figure()\n",
    "    plot_confusion_matrix(cnf_matrix, classes=classes, normalize=True,\n",
    "                          title='Normalized confusion matrix')\n",
    "    plt.show()\n",
    "    \n",
    "    \n",
    "    "
   ]
  },
  {
   "cell_type": "markdown",
   "metadata": {},
   "source": [
    "#### Dummy Classifier\n",
    "I used a a dymmy classifier from sklearn to use as a reference  for judging the significance of the ML-based modeling algorithms compared to random classification lateron. Note that with all the dummy classification strategies the input data is completely ignored."
   ]
  },
  {
   "cell_type": "code",
   "execution_count": 12,
   "metadata": {},
   "outputs": [
    {
     "name": "stdout",
     "output_type": "stream",
     "text": [
      "Dimensions of y_ros: (3490,)\n",
      "Dimension of X_ros: (3490, 121)\n",
      "[(1, 55), (2, 525), (3, 1380), (4, 1335), (5, 195)]\n",
      "accuracy: 0.3954154727793696\n",
      "             precision    recall  f1-score   support\n",
      "\n",
      "          1       0.00      0.00      0.00        11\n",
      "          2       0.00      0.00      0.00       105\n",
      "          3       0.40      1.00      0.57       276\n",
      "          4       0.00      0.00      0.00       267\n",
      "          5       0.00      0.00      0.00        39\n",
      "\n",
      "avg / total       0.16      0.40      0.22       698\n",
      "\n",
      "accuracy: 0.3194842406876791\n",
      "             precision    recall  f1-score   support\n",
      "\n",
      "          1       0.00      0.00      0.00        11\n",
      "          2       0.13      0.17      0.15       105\n",
      "          3       0.41      0.36      0.38       276\n",
      "          4       0.40      0.40      0.40       267\n",
      "          5       0.00      0.00      0.00        39\n",
      "\n",
      "avg / total       0.33      0.32      0.33       698\n",
      "\n",
      "accuracy: 0.3954154727793696\n",
      "             precision    recall  f1-score   support\n",
      "\n",
      "          1       0.00      0.00      0.00        11\n",
      "          2       0.00      0.00      0.00       105\n",
      "          3       0.40      1.00      0.57       276\n",
      "          4       0.00      0.00      0.00       267\n",
      "          5       0.00      0.00      0.00        39\n",
      "\n",
      "avg / total       0.16      0.40      0.22       698\n",
      "\n",
      "accuracy: 0.2134670487106017\n",
      "             precision    recall  f1-score   support\n",
      "\n",
      "          1       0.01      0.09      0.01        11\n",
      "          2       0.20      0.26      0.23       105\n",
      "          3       0.43      0.22      0.29       276\n",
      "          4       0.37      0.22      0.28       267\n",
      "          5       0.02      0.05      0.02        39\n",
      "\n",
      "avg / total       0.35      0.21      0.26       698\n",
      "\n"
     ]
    }
   ],
   "source": [
    "# Dummy Classifier (Note that with all these strategies, the predict method completely ignores the input data!)\n",
    "from sklearn.dummy import DummyClassifier\n",
    "\n",
    "strategies = ['most_frequent', 'stratified', 'prior', 'uniform']\n",
    "X_resampled, y_resampled = resample_data(X_all,y,scheme='none', imp_strategy='most_frequent')\n",
    "X_train, X_test, y_train, y_test = train_test_split(X, y, test_size=0.2, random_state=12, stratify=y)\n",
    "#X_train, X_test, y_train, y_test = train_test_split(X_ros, y_ros, test_size=0.2, random_state=21)\n",
    "\n",
    "for strategy in strategies:\n",
    "    clf = DummyClassifier(strategy=strategy,random_state=0)\n",
    "    clf.fit(X_train, y_train)\n",
    "    y_pred = clf.predict(X_test)\n",
    "    print(\"accuracy: {}\".format(clf.score(X_test, y_test))) \n",
    "    print(classification_report(y_test, y_pred))\n"
   ]
  },
  {
   "cell_type": "code",
   "execution_count": 13,
   "metadata": {
    "collapsed": true
   },
   "outputs": [],
   "source": [
    "from sklearn.linear_model import ElasticNet\n",
    "from sklearn.linear_model import Ridge, RidgeClassifier\n",
    "from sklearn.linear_model import Lasso\n",
    "from sklearn.linear_model import LogisticRegression"
   ]
  },
  {
   "cell_type": "markdown",
   "metadata": {},
   "source": [
    "#### <span style=\"color:DarkMagenta \">**1- Classification with Ridge Regression:**</span>\n",
    "\n",
    "I start the experimentation with regression and classification variants of a Ridge classifier from sklearn. As for the hyper paramters I will only consider the paramter \\alpha to tune the regularization strength. Larger values indicate stronger regularization.\n",
    "The outpur of the classifier should be self-explanatory. In short I provide the following options:\n",
    "* Accuracy on a holdout set (test data)\n",
    "* Confusion matrix values- This is more imprtant thatn pure accuracy as we have an imbalanced dataset\n",
    "* Confuion matrix plot (diagonal elements when normlized represent the sensitivity (recall) of the model)\n",
    "* [Validaiton curve](https://goo.gl/lI5d1f) with respect to a given validation parameter:\n",
    "    * if both validation and training are low the model is underfitting\n",
    "    * if training is high but validation is low the model is overfitting\n",
    "    * otherwise it i working okay\n",
    "    \n",
    "* [Learning curve](https://goo.gl/lI5d1f) to investigate the impact of increasing training data:\n",
    "    * if both validation and training converge to a value too low, we will not benefit much from adding more data (we would need to use a lower bias estimator)\n",
    "    * if training score is much higher than the validation score, then adding more data will most probably increase generalization\n",
    "    \n",
    "Moreover, id the **nested** functionality is on, then a cross-validated mean score is reported for the training set.\n",
    "\n",
    "##### Discussion:\n",
    "Looking at the results of the ridge regressor for $\\alpha = 215.4$, it produces an overall accuracy of $57.8\\%$ and and avergae f1-score of $0.56$. Looking at the validation curve we could say that the model is probably suffering from underfitting as both the train and validation score (here $r^2$-score) are low.\n",
    "    "
   ]
  },
  {
   "cell_type": "code",
   "execution_count": null,
   "metadata": {},
   "outputs": [],
   "source": [
    "# Ridge linear regression\n",
    "steps_ridge = [('imputation', Imputer(missing_values='NaN', strategy='most_frequent', axis=0)),\n",
    "               ('scaler', StandardScaler()),\n",
    "               ('ridge', Ridge(random_state=0))]\n",
    "pipeline_ridge = Pipeline(steps_ridge)\n",
    "\n",
    "parameters_ridge = {'ridge__alpha':np.logspace(-7, 5, 10)}\n",
    "\n",
    "#print(X_all.shape)\n",
    "\n",
    "# Create train and test sets\n",
    "X_train, X_test, y_train, y_test = train_test_split(X_all, y, test_size=0.2, random_state=21)\n",
    "\n",
    "#print(X_train.shape)\n",
    "#score_func= mean_squared_error\n",
    "score_func = r2_score\n",
    "#score_func = explained_variance_score\n",
    "apply_model(X_all, y, pipeline_ridge,  parameters_ridge, valid_param_name='ridge__alpha', scoring=score_func,\n",
    "            valid_curve = 1, learn_curve = 0, classification=0, resample = False, nested = False, random_state=12)\n",
    "\n"
   ]
  },
  {
   "cell_type": "markdown",
   "metadata": {},
   "source": [
    "<span style=\"color:DarkMagenta \">**2- Classification with Ridge Classifier:**</span>\n",
    "\n",
    "##### Discussion:\n",
    "Hypertuning on the regularization $\\alpha = 10$, the classifier has a $54\\%$ accuracy on the test data and an overall performance score (f1-score via nested cross-validation) of $0.55\\pm 0.017$. We notice that the standard deviation is low which indicates that the model is stable. The training and validation scores are higher than Ridge regressor which implies that the model was able to capture more complexity in the data."
   ]
  },
  {
   "cell_type": "code",
   "execution_count": null,
   "metadata": {},
   "outputs": [],
   "source": [
    "# RidgeClassifier\n",
    "steps_ridge_cls = [('imputation', Imputer(missing_values='NaN', strategy='most_frequent', axis=0)),\n",
    "                 ('scaler', StandardScaler()),\n",
    "                 ('ridgeClass', RidgeClassifier(random_state=0))]\n",
    "pipeline_ridge_cls = Pipeline(steps_ridge_cls)\n",
    "\n",
    "parameters_ridge_cls = {'ridgeClass__alpha':np.logspace(-7, 5, 10)}\n",
    "\n",
    "#print(X_all.shape)\n",
    "\n",
    "score_func= f1_score\n",
    "apply_model(X_all, y, pipeline_ridge_cls,  parameters_ridge_cls, valid_param_name='ridgeClass__alpha', scoring=score_func,\n",
    "            valid_curve = 1, learn_curve = 0, classification=1, nested = True, resample = False, random_state=12)"
   ]
  },
  {
   "cell_type": "code",
   "execution_count": null,
   "metadata": {
    "collapsed": true
   },
   "outputs": [],
   "source": [
    "# Exploring the auc scoring\n",
    "from sklearn.svm import LinearSVC\n",
    "model_to_set = OneVsRestClassifier(LinearSVC())\n",
    "\n",
    "parameters = {\"estimator__C\": [1,2,4,8,16]}\n",
    "\n",
    "\n",
    "# Create train and test sets\n",
    "X_resampled, y_resampled = resample_data(X_all,y,scheme='none')\n",
    "X_train, X_test, y_train, y_test = train_test_split(X_resampled, y_resampled, test_size=0.2, random_state=21)\n",
    "\n",
    "scorer = make_scorer(score_func=auc, reorder=True) \n",
    "model_tunning = GridSearchCV(model_to_set, param_grid=parameters,\n",
    "                             scoring=scorer)\n",
    "\n",
    "model_tunning.fit(X_train, y_train)\n",
    "y_pred = model_tunning.predict(X_test)\n",
    "accuracy = accuracy_score(y_test, y_pred)\n",
    "print(\"Accuracy on the test data: {}\".format(accuracy * 100.0))\n",
    "print(classification_report(y_test, y_pred))\n",
    "cnf_matrix = confusion_matrix(y_test, y_pred)\n",
    "plt.figure()\n",
    "plot_confusion_matrix(cnf_matrix, classes=['1','2','3','4','5'], normalize=True,\n",
    "                      title='Normalized confusion matrix')"
   ]
  },
  {
   "cell_type": "markdown",
   "metadata": {},
   "source": [
    "<span style=\"color:DarkMagenta \">**3 - Lasso and Elastic Net Linear Regression:**</span>\n",
    "##### Discussion\n",
    "Looking at the results of both regressors I get accuracy of $57\\%$ and average f1-score of $0.56$ for Lasso and accuracy of $55\\%$ and average f1-score of $0.51$ for the elastice net regressor. Training and validaiton scores ($r^2-score$) are low in both models indicating underfitting."
   ]
  },
  {
   "cell_type": "code",
   "execution_count": 17,
   "metadata": {},
   "outputs": [
    {
     "name": "stdout",
     "output_type": "stream",
     "text": [
      "Accuracy on the test data: 57.306590257879655\n",
      "Tuned model Parameters: {'lasso__alpha': 0.0077426368268112772}\n",
      "             precision    recall  f1-score   support\n",
      "\n",
      "          1       1.00      0.27      0.43        11\n",
      "          2       0.63      0.34      0.44       105\n",
      "          3       0.52      0.67      0.59       276\n",
      "          4       0.62      0.65      0.63       267\n",
      "          5       1.00      0.08      0.14        39\n",
      "\n",
      "avg / total       0.61      0.57      0.56       698\n",
      "\n",
      "Normalized confusion matrix\n",
      "[[ 0.27272727  0.54545455  0.18181818  0.          0.        ]\n",
      " [ 0.          0.34285714  0.63809524  0.01904762  0.        ]\n",
      " [ 0.          0.05434783  0.66666667  0.27898551  0.        ]\n",
      " [ 0.          0.          0.34831461  0.65168539  0.        ]\n",
      " [ 0.          0.          0.17948718  0.74358974  0.07692308]]\n"
     ]
    },
    {
     "data": {
      "image/png": "[encoded data removed]",
      "text/plain": [
       "<matplotlib.figure.Figure at 0xb7581a5978>"
      ]
     },
     "metadata": {},
     "output_type": "display_data"
    },
    {
     "name": "stdout",
     "output_type": "stream",
     "text": [
      "cross-validaiton scores:\n",
      "0.429 (+/-0.090) for {'lasso__alpha': 9.9999999999999995e-08}\n",
      "0.429 (+/-0.090) for {'lasso__alpha': 1.6681005372000591e-06}\n",
      "0.429 (+/-0.090) for {'lasso__alpha': 2.782559402207126e-05}\n",
      "0.430 (+/-0.089) for {'lasso__alpha': 0.00046415888336127822}\n",
      "0.434 (+/-0.080) for {'lasso__alpha': 0.0077426368268112772}\n",
      "0.235 (+/-0.039) for {'lasso__alpha': 0.12915496650148853}\n",
      "-0.000 (+/-0.000) for {'lasso__alpha': 2.1544346900318865}\n",
      "-0.000 (+/-0.000) for {'lasso__alpha': 35.938136638046402}\n",
      "-0.000 (+/-0.000) for {'lasso__alpha': 599.48425031894214}\n",
      "-0.000 (+/-0.000) for {'lasso__alpha': 10000.0}\n",
      "training scores:\n",
      "0.485 (+/-0.010) for {'lasso__alpha': 9.9999999999999995e-08}\n",
      "0.485 (+/-0.010) for {'lasso__alpha': 1.6681005372000591e-06}\n",
      "0.485 (+/-0.010) for {'lasso__alpha': 2.782559402207126e-05}\n",
      "0.484 (+/-0.011) for {'lasso__alpha': 0.00046415888336127822}\n",
      "0.474 (+/-0.010) for {'lasso__alpha': 0.0077426368268112772}\n",
      "0.239 (+/-0.010) for {'lasso__alpha': 0.12915496650148853}\n",
      "0.000 (+/-0.000) for {'lasso__alpha': 2.1544346900318865}\n",
      "0.000 (+/-0.000) for {'lasso__alpha': 35.938136638046402}\n",
      "0.000 (+/-0.000) for {'lasso__alpha': 599.48425031894214}\n",
      "0.000 (+/-0.000) for {'lasso__alpha': 10000.0}\n"
     ]
    },
    {
     "data": {
      "image/png": "[encoded data removed]",
      "text/plain": [
       "<matplotlib.figure.Figure at 0xb7594fe2e8>"
      ]
     },
     "metadata": {},
     "output_type": "display_data"
    },
    {
     "data": {
      "text/plain": [
       "(array([[  3,   6,   2,   0,   0],\n",
       "        [  0,  36,  67,   2,   0],\n",
       "        [  0,  15, 184,  77,   0],\n",
       "        [  0,   0,  93, 174,   0],\n",
       "        [  0,   0,   7,  29,   3]], dtype=int64),\n",
       " GridSearchCV(cv=StratifiedKFold(n_splits=10, random_state=12, shuffle=True),\n",
       "        error_score='raise',\n",
       "        estimator=Pipeline(memory=None,\n",
       "      steps=[('imputation', Imputer(axis=0, copy=True, missing_values='NaN', strategy='most_frequent',\n",
       "     verbose=0)), ('scaler', StandardScaler(copy=True, with_mean=True, with_std=True)), ('lasso', Lasso(alpha=1.0, copy_X=True, fit_intercept=True, max_iter=1000,\n",
       "    normalize=False, positive=False, precompute=False, random_state=0,\n",
       "    selection='cyclic', tol=0.0001, warm_start=False))]),\n",
       "        fit_params=None, iid=True, n_jobs=4,\n",
       "        param_grid={'lasso__alpha': array([  1.00000e-07,   1.66810e-06,   2.78256e-05,   4.64159e-04,\n",
       "          7.74264e-03,   1.29155e-01,   2.15443e+00,   3.59381e+01,\n",
       "          5.99484e+02,   1.00000e+04])},\n",
       "        pre_dispatch='2*n_jobs', refit=True, return_train_score='warn',\n",
       "        scoring=make_scorer(r2_score), verbose=0))"
      ]
     },
     "execution_count": 17,
     "metadata": {},
     "output_type": "execute_result"
    }
   ],
   "source": [
    "# Lasso linear regression\n",
    "steps_lasso = [('imputation', Imputer(missing_values='NaN', strategy='most_frequent', axis=0)),\n",
    "               ('scaler', StandardScaler()),\n",
    "               ('lasso', Lasso(random_state=0))]\n",
    "pipeline_lasso = Pipeline(steps_lasso)\n",
    "\n",
    "parameters_lasso = {'lasso__alpha':np.logspace(-7, 4, 10)}\n",
    "\n",
    "score_func = r2_score\n",
    "apply_model(X_all, y, pipeline_lasso, parameters_lasso, valid_param_name = 'lasso__alpha', scoring = score_func,\n",
    "            learn_curve = 0, valid_curve = 1, classification=0, random_state = 12)\n"
   ]
  },
  {
   "cell_type": "code",
   "execution_count": 21,
   "metadata": {},
   "outputs": [
    {
     "name": "stdout",
     "output_type": "stream",
     "text": [
      "Accuracy on the test data: 55.014326647564474\n",
      "Tuned model Parameters: {'elasticnet__l1_ratio': 9.9999999999999995e-08}\n",
      "             precision    recall  f1-score   support\n",
      "\n",
      "          1       1.00      0.09      0.17        11\n",
      "          2       0.47      0.16      0.24       105\n",
      "          3       0.50      0.71      0.59       276\n",
      "          4       0.63      0.63      0.63       267\n",
      "          5       0.00      0.00      0.00        39\n",
      "\n",
      "avg / total       0.53      0.55      0.51       698\n",
      "\n",
      "Normalized confusion matrix\n",
      "[[ 0.09090909  0.54545455  0.36363636  0.          0.        ]\n",
      " [ 0.          0.16190476  0.82857143  0.00952381  0.        ]\n",
      " [ 0.          0.04710145  0.71376812  0.23913043  0.        ]\n",
      " [ 0.          0.          0.3670412   0.6329588   0.        ]\n",
      " [ 0.          0.          0.15384615  0.84615385  0.        ]]\n"
     ]
    },
    {
     "data": {
      "image/png": "[encoded data removed]",
      "text/plain": [
       "<matplotlib.figure.Figure at 0xb759517080>"
      ]
     },
     "metadata": {},
     "output_type": "display_data"
    },
    {
     "name": "stdout",
     "output_type": "stream",
     "text": [
      "cross-validaiton scores:\n",
      "0.402 (+/-0.060) for {'elasticnet__l1_ratio': 9.9999999999999995e-08}\n",
      "0.402 (+/-0.060) for {'elasticnet__l1_ratio': 1.2915496650148827e-06}\n",
      "0.402 (+/-0.060) for {'elasticnet__l1_ratio': 1.6681005372000593e-05}\n",
      "0.402 (+/-0.060) for {'elasticnet__l1_ratio': 0.00021544346900318845}\n",
      "0.399 (+/-0.060) for {'elasticnet__l1_ratio': 0.0027825594022071257}\n",
      "0.345 (+/-0.051) for {'elasticnet__l1_ratio': 0.035938136638046257}\n",
      "-0.000 (+/-0.000) for {'elasticnet__l1_ratio': 0.4641588833612782}\n",
      "-0.000 (+/-0.000) for {'elasticnet__l1_ratio': 5.994842503189421}\n",
      "-0.000 (+/-0.000) for {'elasticnet__l1_ratio': 77.426368268112782}\n",
      "-0.000 (+/-0.000) for {'elasticnet__l1_ratio': 1000.0}\n",
      "training scores:\n",
      "0.427 (+/-0.009) for {'elasticnet__l1_ratio': 9.9999999999999995e-08}\n",
      "0.427 (+/-0.009) for {'elasticnet__l1_ratio': 1.2915496650148827e-06}\n",
      "0.427 (+/-0.009) for {'elasticnet__l1_ratio': 1.6681005372000593e-05}\n",
      "0.427 (+/-0.009) for {'elasticnet__l1_ratio': 0.00021544346900318845}\n",
      "0.422 (+/-0.009) for {'elasticnet__l1_ratio': 0.0027825594022071257}\n",
      "0.355 (+/-0.009) for {'elasticnet__l1_ratio': 0.035938136638046257}\n",
      "0.000 (+/-0.000) for {'elasticnet__l1_ratio': 0.4641588833612782}\n",
      "0.000 (+/-0.000) for {'elasticnet__l1_ratio': 5.994842503189421}\n",
      "0.000 (+/-0.000) for {'elasticnet__l1_ratio': 77.426368268112782}\n",
      "0.000 (+/-0.000) for {'elasticnet__l1_ratio': 1000.0}\n"
     ]
    },
    {
     "data": {
      "image/png": "[encoded data removed]",
      "text/plain": [
       "<matplotlib.figure.Figure at 0xb7594ea320>"
      ]
     },
     "metadata": {},
     "output_type": "display_data"
    },
    {
     "data": {
      "text/plain": [
       "(array([[  1,   6,   4,   0,   0],\n",
       "        [  0,  17,  87,   1,   0],\n",
       "        [  0,  13, 197,  66,   0],\n",
       "        [  0,   0,  98, 169,   0],\n",
       "        [  0,   0,   6,  33,   0]], dtype=int64),\n",
       " GridSearchCV(cv=StratifiedKFold(n_splits=10, random_state=12, shuffle=True),\n",
       "        error_score='raise',\n",
       "        estimator=Pipeline(memory=None,\n",
       "      steps=[('imputation', Imputer(axis=0, copy=True, missing_values='NaN', strategy='most_frequent',\n",
       "     verbose=0)), ('scaler', StandardScaler(copy=True, with_mean=True, with_std=True)), ('elasticnet', ElasticNet(alpha=1.0, copy_X=True, fit_intercept=True, l1_ratio=0.5,\n",
       "       max_iter=1000, normalize=False, positive=False, precompute=False,\n",
       "       random_state=0, selection='cyclic', tol=0.0001, warm_start=False))]),\n",
       "        fit_params=None, iid=True, n_jobs=4,\n",
       "        param_grid={'elasticnet__l1_ratio': array([  1.00000e-07,   1.29155e-06,   1.66810e-05,   2.15443e-04,\n",
       "          2.78256e-03,   3.59381e-02,   4.64159e-01,   5.99484e+00,\n",
       "          7.74264e+01,   1.00000e+03])},\n",
       "        pre_dispatch='2*n_jobs', refit=True, return_train_score='warn',\n",
       "        scoring=make_scorer(r2_score), verbose=0))"
      ]
     },
     "execution_count": 21,
     "metadata": {},
     "output_type": "execute_result"
    }
   ],
   "source": [
    "# Elasticnet linear regression\n",
    "steps_elastic = [('imputation', Imputer(missing_values='NaN', strategy='most_frequent', axis=0)),\n",
    "               ('scaler', StandardScaler()),\n",
    "               ('elasticnet', ElasticNet(random_state=0))]\n",
    "pipeline_elastic = Pipeline(steps_elastic)\n",
    "\n",
    "parameters_elastic = {'elasticnet__l1_ratio':np.logspace(-7, 3, 10)}\n",
    "\n",
    "score_func = r2_score\n",
    "apply_model(X_all, y, pipeline_elastic, parameters_elastic, valid_param_name = 'elasticnet__l1_ratio', \n",
    "            learn_curve = 0, valid_curve = 1, classification=0, random_state = 12)\n"
   ]
  },
  {
   "cell_type": "markdown",
   "metadata": {},
   "source": [
    "<span style=\"color:DarkMagenta \">**4 - Classification with Logistic Regression:**</span>\n",
    "##### Discussion\n",
    "With the given and tuned parameters, logistic regression yields accuracy of $57\\%$ and average f1-score of $0.57$. The unbiased generalization f1-score computed through nested cross-validation stays at $0.56$."
   ]
  },
  {
   "cell_type": "code",
   "execution_count": 28,
   "metadata": {},
   "outputs": [
    {
     "name": "stdout",
     "output_type": "stream",
     "text": [
      "Model performance via nested cross-validaton mean score:0.559 (+/-0.022)\n",
      "Accuracy on the test data: 57.73638968481375\n",
      "Tuned model Parameters: {'logreg__C': 0.12915496650148853}\n",
      "             precision    recall  f1-score   support\n",
      "\n",
      "          1       0.57      0.36      0.44        11\n",
      "          2       0.57      0.45      0.50       105\n",
      "          3       0.55      0.55      0.55       276\n",
      "          4       0.60      0.72      0.66       267\n",
      "          5       0.62      0.26      0.36        39\n",
      "\n",
      "avg / total       0.58      0.58      0.57       698\n",
      "\n",
      "Normalized confusion matrix\n",
      "[[ 0.36363636  0.54545455  0.09090909  0.          0.        ]\n",
      " [ 0.00952381  0.44761905  0.48571429  0.05714286  0.        ]\n",
      " [ 0.00362319  0.09782609  0.54710145  0.34057971  0.01086957]\n",
      " [ 0.00374532  0.00749064  0.26217228  0.71535581  0.01123596]\n",
      " [ 0.          0.02564103  0.07692308  0.64102564  0.25641026]]\n"
     ]
    },
    {
     "data": {
      "image/png": "[encoded data removed]",
      "text/plain": [
       "<matplotlib.figure.Figure at 0xb7581e27f0>"
      ]
     },
     "metadata": {},
     "output_type": "display_data"
    },
    {
     "name": "stdout",
     "output_type": "stream",
     "text": [
      "cross-validaiton scores:\n",
      "0.395 (+/-0.002) for {'logreg__C': 9.9999999999999995e-08}\n",
      "0.395 (+/-0.002) for {'logreg__C': 1.6681005372000591e-06}\n",
      "0.531 (+/-0.035) for {'logreg__C': 2.782559402207126e-05}\n",
      "0.533 (+/-0.037) for {'logreg__C': 0.00046415888336127822}\n",
      "0.567 (+/-0.057) for {'logreg__C': 0.0077426368268112772}\n",
      "0.569 (+/-0.057) for {'logreg__C': 0.12915496650148853}\n",
      "0.558 (+/-0.048) for {'logreg__C': 2.1544346900318865}\n",
      "0.554 (+/-0.051) for {'logreg__C': 35.938136638046402}\n",
      "0.553 (+/-0.051) for {'logreg__C': 599.48425031894214}\n",
      "0.553 (+/-0.051) for {'logreg__C': 10000.0}\n",
      "training scores:\n",
      "0.395 (+/-0.000) for {'logreg__C': 9.9999999999999995e-08}\n",
      "0.395 (+/-0.000) for {'logreg__C': 1.6681005372000591e-06}\n",
      "0.537 (+/-0.004) for {'logreg__C': 2.782559402207126e-05}\n",
      "0.548 (+/-0.006) for {'logreg__C': 0.00046415888336127822}\n",
      "0.618 (+/-0.005) for {'logreg__C': 0.0077426368268112772}\n",
      "0.633 (+/-0.006) for {'logreg__C': 0.12915496650148853}\n",
      "0.638 (+/-0.010) for {'logreg__C': 2.1544346900318865}\n",
      "0.639 (+/-0.010) for {'logreg__C': 35.938136638046402}\n",
      "0.639 (+/-0.010) for {'logreg__C': 599.48425031894214}\n",
      "0.639 (+/-0.010) for {'logreg__C': 10000.0}\n"
     ]
    },
    {
     "data": {
      "image/png": "[encoded data removed]",
      "text/plain": [
       "<matplotlib.figure.Figure at 0xb7594bf828>"
      ]
     },
     "metadata": {},
     "output_type": "display_data"
    }
   ],
   "source": [
    "# Logistic regression for multiclass classification\n",
    "steps_logreg = [('imputation', Imputer(missing_values='NaN', strategy='most_frequent', axis=0)),\n",
    "                 ('scaler', StandardScaler()),\n",
    "                 ('logreg', LogisticRegression(max_iter = 100, solver = 'newton-cg', multi_class = 'multinomial'))]\n",
    "                  \n",
    "pipeline_logreg = Pipeline(steps_logreg)\n",
    "\n",
    "parameters_logreg = {'logreg__C':np.logspace(-7, 4, 10)}\n",
    "\n",
    "\n",
    "score_func = f1_score\n",
    "\n",
    "cnf_matrix, cv = apply_model(X_all, y, pipeline_logreg, parameters_logreg, valid_param_name='logreg__C', \n",
    "                             scoring = score_func, learn_curve = 0, valid_curve = 1, nested = True, \n",
    "                             classification=1, random_state = 12)\n",
    "\n",
    "# Apply the classifier using a randomly oversampled dataset to account for the imbalanced data\n",
    "#cnf_matrix, cv = apply_model(X_ros, y_ros, pipeline_logreg, parameters_logreg, 'logreg__C', \n",
    "#                             learn_curve = 1, valid_curve = 1, classification=1)\n",
    "\n",
    "#cnf_matrix, cv = apply_model(X_smote, y_smote, pipeline_logreg, parameters_logreg, 'logreg__C', \n",
    "#                             learn_curve = 1, valid_curve = 1, classification=1)\n"
   ]
  },
  {
   "cell_type": "markdown",
   "metadata": {},
   "source": [
    "<span style=\"color:DarkMagenta \">**5 - Ordinal logistic regression using Mord:**</span>\n",
    "\n",
    "Here I used the logistic regression provided by mord python package for ordinal regression. Ordinal regression (also called \"ordinal classification\") is a type of regression analysis used for predicting an ordinal variable, i.e. a variable whose value exists on an arbitrary scale where only the relative ordering between different values is significant. As in my probelm I have a discrete 5-star rating, it can also be modeled by a regressor suitable to predict discrete outcomes. for this purpose [mord](https://goo.gl/hcMkYP) provides a collection of ordinal regression algorithms in Python, following a scikit-learn compatible API.\n",
    "##### Discussion\n",
    "Accuracy on the test data is at $58.4%$ and the average f1-score of $0.57$. Over performance score from nested cross-validation is $0.57 \\pm 0.025.$"
   ]
  },
  {
   "cell_type": "code",
   "execution_count": 36,
   "metadata": {},
   "outputs": [
    {
     "name": "stdout",
     "output_type": "stream",
     "text": [
      "Model performance via nested cross-validaton mean score:0.569 (+/-0.025)\n",
      "Accuracy on the test data: 58.45272206303726\n",
      "Tuned model Parameters: {'logclassmord__alpha': 35.938136638046402}\n",
      "             precision    recall  f1-score   support\n",
      "\n",
      "          1       0.75      0.27      0.40        11\n",
      "          2       0.61      0.40      0.48       105\n",
      "          3       0.55      0.59      0.57       276\n",
      "          4       0.61      0.74      0.67       267\n",
      "          5       1.00      0.08      0.14        39\n",
      "\n",
      "avg / total       0.61      0.58      0.57       698\n",
      "\n",
      "Normalized confusion matrix\n",
      "[[ 0.27272727  0.63636364  0.          0.09090909  0.        ]\n",
      " [ 0.00952381  0.4         0.57142857  0.01904762  0.        ]\n",
      " [ 0.          0.07246377  0.58695652  0.34057971  0.        ]\n",
      " [ 0.          0.          0.25842697  0.74157303  0.        ]\n",
      " [ 0.          0.          0.1025641   0.82051282  0.07692308]]\n"
     ]
    },
    {
     "data": {
      "image/png": "[encoded data removed]",
      "text/plain": [
       "<matplotlib.figure.Figure at 0xb759aa6ba8>"
      ]
     },
     "metadata": {},
     "output_type": "display_data"
    },
    {
     "name": "stdout",
     "output_type": "stream",
     "text": [
      "cross-validaiton scores:\n",
      "0.570 (+/-0.068) for {'logclassmord__alpha': 9.9999999999999995e-08}\n",
      "0.571 (+/-0.067) for {'logclassmord__alpha': 1.6681005372000591e-06}\n",
      "0.571 (+/-0.067) for {'logclassmord__alpha': 2.782559402207126e-05}\n",
      "0.571 (+/-0.067) for {'logclassmord__alpha': 0.00046415888336127822}\n",
      "0.571 (+/-0.067) for {'logclassmord__alpha': 0.0077426368268112772}\n",
      "0.571 (+/-0.067) for {'logclassmord__alpha': 0.12915496650148853}\n",
      "0.569 (+/-0.062) for {'logclassmord__alpha': 2.1544346900318865}\n",
      "0.573 (+/-0.065) for {'logclassmord__alpha': 35.938136638046402}\n",
      "0.557 (+/-0.053) for {'logclassmord__alpha': 599.48425031894214}\n",
      "0.530 (+/-0.046) for {'logclassmord__alpha': 10000.0}\n",
      "training scores:\n",
      "0.597 (+/-0.010) for {'logclassmord__alpha': 9.9999999999999995e-08}\n",
      "0.597 (+/-0.010) for {'logclassmord__alpha': 1.6681005372000591e-06}\n",
      "0.597 (+/-0.010) for {'logclassmord__alpha': 2.782559402207126e-05}\n",
      "0.597 (+/-0.010) for {'logclassmord__alpha': 0.00046415888336127822}\n",
      "0.597 (+/-0.010) for {'logclassmord__alpha': 0.0077426368268112772}\n",
      "0.597 (+/-0.010) for {'logclassmord__alpha': 0.12915496650148853}\n",
      "0.596 (+/-0.009) for {'logclassmord__alpha': 2.1544346900318865}\n",
      "0.596 (+/-0.012) for {'logclassmord__alpha': 35.938136638046402}\n",
      "0.572 (+/-0.005) for {'logclassmord__alpha': 599.48425031894214}\n",
      "0.535 (+/-0.006) for {'logclassmord__alpha': 10000.0}\n"
     ]
    },
    {
     "data": {
      "image/png": "[encoded data removed]",
      "text/plain": [
       "<matplotlib.figure.Figure at 0xb757e089e8>"
      ]
     },
     "metadata": {},
     "output_type": "display_data"
    },
    {
     "data": {
      "text/plain": [
       "(array([[  3,   7,   0,   1,   0],\n",
       "        [  1,  42,  60,   2,   0],\n",
       "        [  0,  20, 162,  94,   0],\n",
       "        [  0,   0,  69, 198,   0],\n",
       "        [  0,   0,   4,  32,   3]], dtype=int64),\n",
       " GridSearchCV(cv=StratifiedKFold(n_splits=10, random_state=12, shuffle=True),\n",
       "        error_score='raise',\n",
       "        estimator=Pipeline(memory=None,\n",
       "      steps=[('imputation', Imputer(axis=0, copy=True, missing_values='NaN', strategy='most_frequent',\n",
       "     verbose=0)), ('scaler', StandardScaler(copy=True, with_mean=True, with_std=True)), ('logclassmord', LogisticIT(alpha=1.0, max_iter=100, verbose=0))]),\n",
       "        fit_params=None, iid=True, n_jobs=4,\n",
       "        param_grid={'logclassmord__alpha': array([  1.00000e-07,   1.66810e-06,   2.78256e-05,   4.64159e-04,\n",
       "          7.74264e-03,   1.29155e-01,   2.15443e+00,   3.59381e+01,\n",
       "          5.99484e+02,   1.00000e+04])},\n",
       "        pre_dispatch='2*n_jobs', refit=True, return_train_score='warn',\n",
       "        scoring=make_scorer(f1_score, average=micro), verbose=0))"
      ]
     },
     "execution_count": 36,
     "metadata": {},
     "output_type": "execute_result"
    }
   ],
   "source": [
    "# Ordindal regression using the mord package\n",
    "import mord as m\n",
    "\n",
    "steps_logclassmord = [('imputation', Imputer(missing_values='NaN', strategy='most_frequent', axis=0)),\n",
    "                      ('scaler', StandardScaler()),\n",
    "                      ('logclassmord', m.LogisticIT(max_iter = 100))]\n",
    "                  \n",
    "pipeline_logclassmord = Pipeline(steps_logclassmord)\n",
    "\n",
    "parameters_logclassmord = {'logclassmord__alpha':np.logspace(-7, 4, 10)}\n",
    "\n",
    "score_func = f1_score\n",
    "#score_func = cohen_kappa_score\n",
    "apply_model(X_all, y, pipeline_logclassmord, parameters_logclassmord, valid_param_name = 'logclassmord__alpha', \n",
    "            learn_curve = 0, valid_curve = 1, classification=1, nested = True, scoring = score_func,\n",
    "            random_state = 12)"
   ]
  },
  {
   "cell_type": "markdown",
   "metadata": {},
   "source": [
    "<span style=\"color:DarkMagenta \">**6 - Linear classification with support vector classifier:**</span>\n",
    "##### Discussion\n",
    "The reported accuracy on the test data is $55\\%$ and the avergae f1-score is at $$. The overl generalization performance considerinf the f1-score is at $ \\pm $."
   ]
  },
  {
   "cell_type": "code",
   "execution_count": 43,
   "metadata": {},
   "outputs": [
    {
     "name": "stdout",
     "output_type": "stream",
     "text": [
      "Model performance via nested cross-validaton mean score:0.555 (+/-0.022)\n",
      "Accuracy on the test data: 55.014326647564474\n",
      "Tuned model Parameters: {'lsvc__C': 0.001}\n",
      "             precision    recall  f1-score   support\n",
      "\n",
      "          1       1.00      0.09      0.17        11\n",
      "          2       0.52      0.36      0.43       105\n",
      "          3       0.53      0.54      0.53       276\n",
      "          4       0.57      0.72      0.64       267\n",
      "          5       0.56      0.13      0.21        39\n",
      "\n",
      "avg / total       0.55      0.55      0.53       698\n",
      "\n",
      "Normalized confusion matrix\n",
      "[[ 0.09090909  0.72727273  0.09090909  0.          0.09090909]\n",
      " [ 0.          0.36190476  0.56190476  0.07619048  0.        ]\n",
      " [ 0.          0.08695652  0.53985507  0.36956522  0.00362319]\n",
      " [ 0.          0.00749064  0.26966292  0.71535581  0.00749064]\n",
      " [ 0.          0.02564103  0.02564103  0.82051282  0.12820513]]\n"
     ]
    },
    {
     "data": {
      "image/png": "[encoded data removed]",
      "text/plain": [
       "<matplotlib.figure.Figure at 0xb759b7fd68>"
      ]
     },
     "metadata": {},
     "output_type": "display_data"
    },
    {
     "name": "stdout",
     "output_type": "stream",
     "text": [
      "cross-validaiton scores:\n",
      "0.535 (+/-0.057) for {'lsvc__C': 9.9999999999999995e-08}\n",
      "0.536 (+/-0.060) for {'lsvc__C': 2.1544346900318822e-06}\n",
      "0.555 (+/-0.042) for {'lsvc__C': 4.6415888336127723e-05}\n",
      "0.560 (+/-0.055) for {'lsvc__C': 0.001}\n",
      "0.556 (+/-0.047) for {'lsvc__C': 0.021544346900318822}\n",
      "0.547 (+/-0.039) for {'lsvc__C': 0.46415888336127725}\n",
      "0.486 (+/-0.064) for {'lsvc__C': 10.0}\n",
      "0.438 (+/-0.061) for {'lsvc__C': 215.44346900318777}\n",
      "0.439 (+/-0.057) for {'lsvc__C': 4641.5888336127728}\n",
      "0.441 (+/-0.068) for {'lsvc__C': 100000.0}\n",
      "training scores:\n",
      "0.555 (+/-0.007) for {'lsvc__C': 9.9999999999999995e-08}\n",
      "0.557 (+/-0.008) for {'lsvc__C': 2.1544346900318822e-06}\n",
      "0.579 (+/-0.008) for {'lsvc__C': 4.6415888336127723e-05}\n",
      "0.607 (+/-0.008) for {'lsvc__C': 0.001}\n",
      "0.613 (+/-0.009) for {'lsvc__C': 0.021544346900318822}\n",
      "0.619 (+/-0.009) for {'lsvc__C': 0.46415888336127725}\n",
      "0.538 (+/-0.023) for {'lsvc__C': 10.0}\n",
      "0.482 (+/-0.056) for {'lsvc__C': 215.44346900318777}\n",
      "0.487 (+/-0.031) for {'lsvc__C': 4641.5888336127728}\n",
      "0.487 (+/-0.052) for {'lsvc__C': 100000.0}\n"
     ]
    },
    {
     "data": {
      "image/png": "[encoded data removed]",
      "text/plain": [
       "<matplotlib.figure.Figure at 0xb758196978>"
      ]
     },
     "metadata": {},
     "output_type": "display_data"
    }
   ],
   "source": [
    "# Now try a linear classification using the support vector classifier\n",
    "from sklearn.svm import LinearSVC\n",
    "\n",
    "steps_lsvc = [('imputatoin', Imputer(missing_values='NaN', strategy='most_frequent', axis=0)),\n",
    "               ('scaler', StandardScaler()),\n",
    "               ('lsvc', LinearSVC(random_state=0, loss = 'squared_hinge'))]\n",
    "pipeline_lsvc = Pipeline(steps_lsvc)\n",
    "\n",
    "parameters_lsvc = {#'lsvc__loss':['hinge','squared_hinge']}\n",
    "                   'lsvc__C':np.logspace(-7,5,10)}\n",
    "\n",
    "# I see worse resutls on the test data when doing cross-validation. Perhaps I should do nexted cross-validation to get unbiased \n",
    "# prediction result on the test data? For example the default of C is one, but if I set it through gridsearch I get seemingly \n",
    "# worse results -->  Need to do exhaustive search, i.e., over a range. Look into this more closely however.\n",
    "\n",
    "# Report results for different scoring\n",
    "#score_func = precision_score\n",
    "score_func = f1_score\n",
    "#score_func = recall_score\n",
    "#score_func = fbeta_score\n",
    "#score_func = jaccard_similarity_score\n",
    "\n",
    "cnf_matrix, cv = apply_model(X_all, y, pipeline_lsvc, parameters_lsvc, scoring = score_func, \n",
    "                             valid_param_name = 'lsvc__C', valid_curve=1, learn_curve = 0, \n",
    "                             nested = True, classification=1, random_state = 12)\n",
    "\n"
   ]
  },
  {
   "cell_type": "code",
   "execution_count": null,
   "metadata": {
    "collapsed": true
   },
   "outputs": [],
   "source": [
    "# Now usig the combined rankings\n",
    "cnf_matrix, cv = apply_model(X_all, y_three_ranks, pipeline_lsvc, parameters_lsvc, learn_curve = 1, classification=1)\n",
    "\n",
    "# Plot the confusion matrix\n",
    "class_names = ['1', '2', '3']\n",
    "plt.figure()\n",
    "plot_confusion_matrix(cnf_matrix, classes=class_names, normalize=True,\n",
    "                      title='Normalized confusion matrix')\n",
    "plt.show()"
   ]
  },
  {
   "cell_type": "code",
   "execution_count": 44,
   "metadata": {},
   "outputs": [
    {
     "ename": "SyntaxError",
     "evalue": "invalid syntax (<ipython-input-44-83623a1e0064>, line 1)",
     "output_type": "error",
     "traceback": [
      "\u001b[1;36m  File \u001b[1;32m\"<ipython-input-44-83623a1e0064>\"\u001b[1;36m, line \u001b[1;32m1\u001b[0m\n\u001b[1;33m    <span style=\"color:DarkMagenta \">**6 - Random Forest Classification:**</span>\u001b[0m\n\u001b[1;37m    ^\u001b[0m\n\u001b[1;31mSyntaxError\u001b[0m\u001b[1;31m:\u001b[0m invalid syntax\n"
     ]
    }
   ],
   "source": [
    "<span style=\"color:DarkMagenta \">**6 - Random Forest Classification:**</span>"
   ]
  },
  {
   "cell_type": "code",
   "execution_count": null,
   "metadata": {
    "collapsed": true
   },
   "outputs": [],
   "source": [
    "# Random Forest Regression (Plot the feature importance)-- It chooses the auto one. Which means all the features. And it is basically bagging.\n",
    "from sklearn.ensemble import RandomForestRegressor\n",
    "\n",
    "steps_rfrg = [('imputatoin', Imputer(missing_values='NaN', strategy='most_frequent', axis=0)),\n",
    "               ('scaler', StandardScaler()),\n",
    "               ('rfrg', RandomForestRegressor(random_state=0, class_weight = 'balanced'))]\n",
    "pipeline_rfrg = Pipeline(steps_rfrg)\n",
    "\n",
    "parameters_rfrg = {'rfrg__max_depth':[16, 32],\n",
    "                   'rfrg__n_estimators':[160, 180, 200],\n",
    "                   'rfrg__max_features':[\"auto\", \"sqrt\", \"log2\"]}\n",
    "\n",
    "cnf_matrix, cv = apply_model(X_all, y, pipeline_rfrg, parameters_rfrg, classification=0)\n"
   ]
  },
  {
   "cell_type": "code",
   "execution_count": null,
   "metadata": {
    "collapsed": true
   },
   "outputs": [],
   "source": [
    "# Random Forest Classification\n",
    "from sklearn.ensemble import RandomForestClassifier\n",
    "\n",
    "steps_rfcl = [('imputatoin', Imputer(missing_values='NaN', strategy='most_frequent', axis=0)),\n",
    "               ('scaler', StandardScaler()),\n",
    "               ('rfcl', RandomForestClassifier(random_state=0, class_weight = 'balanced'))]\n",
    "pipeline_rfcl = Pipeline(steps_rfcl)\n",
    "\n",
    "parameters_rfcl = {'rfcl__max_depth':np.arange(2,128, 20),\n",
    "                   'rfcl__n_estimators':np.arange(10,200, 10),\n",
    "                   'rfcl__max_features':[\"auto\", \"sqrt\", \"log2\"]}\n",
    "\n",
    "cnf_matrix, cv = apply_model(X_all, y, pipeline_rfcl, parameters_rfcl, valid_param_name='rfcl__max_depth', \n",
    "                             valid_curve = 0, learn_curve = 0, classification=1)\n",
    "\n",
    "# Plot the confusion matrix\n",
    "class_names = ['1', '2', '3', '4', '5']\n",
    "plt.figure()\n",
    "plot_confusion_matrix(cnf_matrix, classes=class_names, normalize=True,\n",
    "                      title='Normalized confusion matrix')\n",
    "plt.show()"
   ]
  },
  {
   "cell_type": "code",
   "execution_count": null,
   "metadata": {
    "collapsed": true
   },
   "outputs": [],
   "source": [
    "# GBM Classifers (Gradient Boosting)\n",
    "# The overall parameters can be divided into 3 categories:\n",
    "# 1- Tree-Specific parameters,  2- Boosting parameters, 3- Miscellanous parameters\n",
    "from sklearn.ensemble import GradientBoostingClassifier\n",
    "from sklearn import cross_validation, metrics \n",
    "from sklearn.grid_search import GridSearchCV \n",
    "from sklearn.preprocessing import label_binarize\n",
    "from sklearn.multiclass import OneVsRestClassifier\n",
    "from matplotlib.pylab import rcParams\n",
    "rcParams['figure.figsize'] = 20, 4\n",
    "\n",
    "def modelfit(alg, X, y, feature_names, performCV=True, printFeatureImportance=True, cv_folds=5):\n",
    "   \n",
    "    #y = label_binarize(y, classes=[1, 2, 3, 4, 5])\n",
    "    \n",
    "    X_train, X_test, y_train, y_test = train_test_split(X, y, test_size=0.2, random_state=21)\n",
    "    \n",
    "    \n",
    "    #clf_alg = OneVsRestClassifier(alg)\n",
    "    \n",
    "    clf_alg = alg\n",
    "    \n",
    "    #Fit the algorithm on the data\n",
    "    clf_alg.fit(X_train, y_train)\n",
    "        \n",
    "    #Predict testing set:\n",
    "    y_pred = clf_alg.predict(X_test)\n",
    "    #y_predprob = clf_alg.predict_proba(X_test)\n",
    "    \n",
    "    #Perform cross-validation:\n",
    "    #if performCV:\n",
    "        #cv_score = cross_validation.cross_val_score(clf_alg, X_train, y_train, cv=cv_folds, scoring='accuracy')\n",
    "        #print(\"CV Score : Mean - %.7g | Std - %.7g | Min - %.7g | Max - %.7g\" \n",
    "              #% (np.mean(cv_score),np.std(cv_score),np.min(cv_score),np.max(cv_score)))\n",
    "    \n",
    "    #Print model report:\n",
    "    print(\"Model Report\")\n",
    "    print(\"Accuracy : %.4g\" % metrics.accuracy_score(y_test, y_pred))\n",
    "    print(classification_report(y_test, y_pred))\n",
    "    cnf_matrix = confusion_matrix(y_test, y_pred)\n",
    "    plt.figure()\n",
    "    plot_confusion_matrix(cnf_matrix, classes=['1','2','3','4','5'], normalize=True,\n",
    "                      title='Normalized confusion matrix')\n",
    "    #print(\"AUC Score (Test): %f\" % metrics.roc_auc_score(y_test, y_predprob))\n",
    "    \n",
    "            \n",
    "    #Print Feature Importance:\n",
    "    if printFeatureImportance:\n",
    "        plt.figure()\n",
    "        feat_imp = pd.Series(clf_alg.feature_importances_, feature_names).sort_values(ascending=False)\n",
    "        feat_imp.plot(kind='bar', title='Feature Importances')\n",
    "        plt.ylabel('Feature Importance Score')\n"
   ]
  },
  {
   "cell_type": "code",
   "execution_count": null,
   "metadata": {
    "collapsed": true
   },
   "outputs": [],
   "source": [
    "# Let's create a baseline first without any tuning\n",
    "X_resampled, y_resampled = resample_data(X_all, y, scheme='none', imp_strategy='most_frequent')\n",
    "gbm0 = GradientBoostingClassifier(random_state=0)\n",
    "modelfit(gbm0, X_resampled, y_resampled, feature_names_all)"
   ]
  },
  {
   "cell_type": "code",
   "execution_count": null,
   "metadata": {
    "collapsed": true,
    "scrolled": true
   },
   "outputs": [],
   "source": [
    "# Now performing parameter tuning\n",
    "# There are two types of parameter to be tuned here: 1- Tree-based and 2- boosting parameters\n",
    "# There are no optimum values for learning rate, low values always work better given that we train on sufficient number of trees\n",
    "# Notes to keep in mind: https://www.analyticsvidhya.com/blog/2016/02/complete-guide-parameter-tuning-gradient-boosting-gbm-python/\n",
    "# Let's fix some parameters:\n",
    "min_samples_split = 2\n",
    "min_samples_leaf = 1\n",
    "max_depth = 5\n",
    "max_features = 'sqrt'\n",
    "subsample = 0.8\n",
    "\n",
    "steps_gbm = [('imputatoin', Imputer(missing_values='NaN', strategy='most_frequent', axis=0)),\n",
    "             ('scaler', StandardScaler()),\n",
    "             ('gbm', GradientBoostingClassifier(random_state=0, learning_rate=0.2))]\n",
    "pipeline_gbm = Pipeline(steps_gbm)\n",
    "\n",
    "parameters_gbm = {'gbm__n_estimators':np.arange(2,200, 20)}\n",
    "\n",
    "\n",
    "cnf_matrix, cv = apply_model(X_all, y, pipeline_gbm, parameters_gbm, \n",
    "                             valid_param_name='gbm__n_estimators',valid_curve = 0, \n",
    "                             learn_curve = 0, classification=1)\n",
    " \n"
   ]
  },
  {
   "cell_type": "code",
   "execution_count": null,
   "metadata": {
    "collapsed": true
   },
   "outputs": [],
   "source": [
    "# Tuning tree-specific parameters  (As this can also be a bit expensive, try randomizedSearchCV)\n",
    "steps_gbm = [('imputatoin', Imputer(missing_values='NaN', strategy='most_frequent', axis=0)),\n",
    "             ('scaler', StandardScaler()),\n",
    "             ('gbm', GradientBoostingClassifier(random_state=0, learning_rate=0.2, n_estimators = 162))]\n",
    "pipeline_gbm = Pipeline(steps_gbm)\n",
    "parameters_gbm_2 = {'gbm__max_depth':np.arange(5,16,2)}\n",
    "                    #'gbm__min_samples_split':np.arange(2,100,10)}\n",
    "                    #'gbm__min_samples_leaf':np.arange(1,30, 5),\n",
    "                    #'gbm__max_features':np.arange(7,20,2)}\n",
    "cnf_matrix, cv = apply_model(X_resampled, y_resampled, pipeline_gbm, parameters_gbm_2, \n",
    "                             valid_curve = 0, learn_curve = 0, classification=1)"
   ]
  },
  {
   "cell_type": "code",
   "execution_count": null,
   "metadata": {
    "collapsed": true
   },
   "outputs": [],
   "source": [
    "# Tuning tree-specific parameters  (As this can also be a bit expensive, try randomizedSearchCV)\n",
    "steps_gbm = [('imputatoin', Imputer(missing_values='NaN', strategy='most_frequent', axis=0)),\n",
    "             ('scaler', StandardScaler()),\n",
    "             ('gbm', GradientBoostingClassifier(random_state=0, learning_rate=0.2, n_estimators=100, max_depth=5))]\n",
    "pipeline_gbm = Pipeline(steps_gbm)\n",
    "parameters_gbm_2 = {#'gbm__max_depth':np.arange(5,16,2)}\n",
    "                    'gbm__min_samples_split':np.arange(2,100,10)}\n",
    "                    #'gbm__min_samples_leaf':np.arange(1,30, 5),\n",
    "                    #'gbm__max_features':np.arange(7,20,2)}\n",
    "cnf_matrix, cv = apply_model(X_resampled, y_resampled, pipeline_gbm, parameters_gbm_2, \n",
    "                             valid_curve = 0, learn_curve = 0, classification=1)"
   ]
  },
  {
   "cell_type": "code",
   "execution_count": null,
   "metadata": {
    "collapsed": true
   },
   "outputs": [],
   "source": [
    "def modelfit(alg, X, y, feature_names, useTrainCV=True, cv_folds=5, early_stopping_rounds=50):\n",
    "    \n",
    "    if useTrainCV:\n",
    "        xgb_param = alg.get_xgb_params()\n",
    "        xgtrain = xgb.DMatrix(X, y)\n",
    "        cvresult = xgb.cv(xgb_param, xgtrain, num_boost_round=alg.get_params()['n_estimators'], nfold=cv_folds,\n",
    "            metrics='accuracy', early_stopping_rounds=early_stopping_rounds, show_progress=False)\n",
    "        alg.set_params(n_estimators=cvresult.shape[0])\n",
    "    \n",
    "    #Fit the algorithm on the data\n",
    "    alg.fit(X, y,eval_metric='accuracy')\n",
    "        \n",
    "    #Predict training set:\n",
    "    dtrain_predictions = alg.predict(X)\n",
    "    #dtrain_predprob = alg.predict_proba(dtrain[predictors])[:,1]\n",
    "        \n",
    "    #Print model report:\n",
    "    print(\"\\nModel Report\")\n",
    "    print(\"Accuracy : %.4g\" % metrics.accuracy_score(X, y))\n",
    "    #print \"AUC Score (Train): %f\" % metrics.roc_auc_score(dtrain['Disbursed'], dtrain_predprob)\n",
    "                    \n",
    "    feat_imp = pd.Series(alg.booster().get_fscore()).sort_values(ascending=False)\n",
    "    feat_imp.plot(kind='bar', title='Feature Importances')\n",
    "    plt.ylabel('Feature Importance Score')"
   ]
  },
  {
   "cell_type": "code",
   "execution_count": null,
   "metadata": {
    "collapsed": true
   },
   "outputs": [],
   "source": [
    "# Maybe do a nested cross-validaiton on this one\n",
    "# Other thing to check is that should I at the end print the classification report on the original non-synthesized data?! \n",
    "# What is the appropriate way to interpret these results?\n",
    "# things to still playaround with: Gridsearch with this, generally use other scoring for gridsearch (look at the book), pay\n",
    "# attention to other means of playing with imbalanced data\n",
    "\n",
    "# Read this article :  https://beckernick.github.io/oversampling-modeling/\n",
    "# Look for the right ways to do cross-validation with oversampling\n",
    "\n",
    "# XGBoost classifier\n",
    "# Over all parameters have been divided to:\n",
    "# 1. General Parameters, 2- Booster Parameters, 3- Learning Task Parameters\n",
    "\n",
    "#from xgboost import xgb  # Direct xgboost library\n",
    "from xgboost.sklearn import XGBClassifier  # sklearn wrapper for XGboost\n",
    "from sklearn.metrics import accuracy_score\n",
    "\n",
    "X_resampled, y_resampled = resample_data(X_all, y, scheme='SMOTE', imp_strategy='most_frequent')\n",
    "\n",
    "# Fix some parameter values\n",
    "xgb1 = XGBClassifier(\n",
    " learning_rate =0.1,\n",
    " n_estimators=250,\n",
    " max_depth=10,\n",
    " min_child_weight=1,\n",
    " gamma=0,\n",
    " subsample=0.8,\n",
    " colsample_bytree=0.8,\n",
    " objective= 'multi:softmax',\n",
    " nthread=4,\n",
    " scale_pos_weight=1,\n",
    " seed=27)\n",
    "#modelfit(xgb1, X_resampled, y_resampled, feature_names_all, useTrainCV=False)\n",
    "\n",
    "#steps_xgboost = [('imputatoin', Imputer(missing_values='NaN', strategy='most_frequent', axis=0)),\n",
    "#               ('scaler', StandardScaler()),\n",
    "#               ('xgboost', XGBClassifier())]\n",
    "#pipeline_xgboost = Pipeline(steps_xgboost)\n",
    "\n",
    "#parameters_xgboost = {'xgboost__max_depth':np.arange(2,128, 20),\n",
    "#                      'xgboost__n_estimators':np.arange(10,200, 10)}\n",
    "\n",
    "#X_resampled, y_resampled = resample_data(X_all, y, scheme='SMOTE', imp_strategy='most_frequent')\n",
    "# Create train and test sets\n",
    "#X_resampled_orig, y_resampled_orig = resample_data(X_all, y, scheme='none', imp_strategy='most_frequent')\n",
    "#X_train_orig, X_test_orig, y_train_orig, y_test_orig = train_test_split(X_resampled_orig, y_resampled_orig, test_size=0.2, random_state=21)\n",
    "\n",
    "X_train, X_test, y_train, y_test = train_test_split(X_resampled, y_resampled, test_size=0.0, random_state=21)\n",
    "X_resampled, y_resampled = resample_data(X_train, y_train, scheme='SMOTE', imp_strategy='most_frequent')\n",
    "\n",
    "model = xgb1\n",
    "model.fit(X_train, y_train)\n",
    "y_pred = model.predict(X_train)\n",
    "accuracy = accuracy_score(y_train, y_pred)\n",
    "print(\"Accuracy: %.2f%%\" % (accuracy * 100.0))\n",
    "print(classification_report(y_train, y_pred))\n",
    "\n",
    "print(\"Classificaiton results on all the original test data (missing values treated)\")\n",
    "y_pred = model.predict(X_test_orig)\n",
    "accuracy = accuracy_score(y_test_orig, y_pred)\n",
    "print(\"Accuracy: %.2f%%\" % (accuracy * 100.0))\n",
    "print(classification_report(y_test_orig, y_pred))\n",
    "\n",
    "print(\"Classificaiton results on all the original data (missing values treated)\")\n",
    "y_pred = model.predict(X_resampled_orig)\n",
    "accuracy = accuracy_score(y_resampled_orig, y_pred)\n",
    "print(\"Accuracy: %.2f%%\" % (accuracy * 100.0))\n",
    "print(classification_report(y_resampled_orig, y_pred))\n",
    "\n",
    "\n",
    "\n",
    "\n",
    "#cnf_matrix, cv = apply_model(X_all, y, pipeline_xgboost, parameters_xgboost, 'xgboost__max_depth', \n",
    "#                             valid_curve = 1, learn_curve = 1, classification=1)\n",
    "\n",
    "# Plot the confusion matrix\n",
    "#class_names = ['1', '2', '3', '4', '5']\n",
    "#plt.figure()\n",
    "#plot_confusion_matrix(cnf_matrix, classes=class_names, normalize=True,\n",
    "#                      title='Normalized confusion matrix')\n",
    "#plt.show()"
   ]
  },
  {
   "cell_type": "code",
   "execution_count": null,
   "metadata": {
    "collapsed": true
   },
   "outputs": [],
   "source": [
    "# Adaboost regression\n",
    "from sklearn.ensemble import AdaBoostRegressor\n",
    "\n",
    "steps_adrg = [('imputatoin', Imputer(missing_values='NaN', strategy='most_frequent', axis=0)),\n",
    "               ('scaler', StandardScaler()),\n",
    "               ('adrg', AdaBoostRegressor(random_state=0))]\n",
    "pipeline_adrg = Pipeline(steps_adrg)\n",
    "\n",
    "parameters_adrg = {'adrg__n_estimators':np.arange(10,200, 50),\n",
    "                   'adrg__learning_rate':np.arange(0.1,1,0.1),\n",
    "                   'adrg__loss':[\"linear\", \"square\", \"exponential\"]}\n",
    "\n",
    "cnf_matrix, cv = apply_model(X_all, y, pipeline_adrg, parameters_adrg, classification=0)"
   ]
  },
  {
   "cell_type": "code",
   "execution_count": null,
   "metadata": {
    "collapsed": true
   },
   "outputs": [],
   "source": [
    "# Adaboost Classification\n",
    "from sklearn.ensemble import AdaBoostClassifier\n",
    "\n",
    "steps_adcl = [('imputatoin', Imputer(missing_values='NaN', strategy='most_frequent', axis=0)),\n",
    "               ('scaler', StandardScaler()),\n",
    "               ('adcl', AdaBoostClassifier(random_state=0))]\n",
    "pipeline_adcl = Pipeline(steps_adcl)\n",
    "\n",
    "parameters_adcl = {'adcl__n_estimators':np.arange(10,200, 50),\n",
    "                   'adcl__learning_rate':np.arange(0.1,1,0.1)}\n",
    "\n",
    "cnf_matrix, cv = apply_model(X_all, y, pipeline_adcl, parameters_adcl, classification=1)\n"
   ]
  },
  {
   "cell_type": "code",
   "execution_count": null,
   "metadata": {
    "collapsed": true
   },
   "outputs": [],
   "source": [
    "# KNN Regression\n",
    "from sklearn.neighbors import KNeighborsRegressor\n",
    "\n",
    "steps_knnrg = [('imputatoin', Imputer(missing_values='NaN', strategy='most_frequent', axis=0)),\n",
    "               ('scaler', StandardScaler()),\n",
    "               ('knnrg', KNeighborsRegressor())]\n",
    "pipeline_knnrg = Pipeline(steps_knnrg)\n",
    "\n",
    "parameters_knnrg = {'knnrg__n_neighbors':np.arange(5,30, 5),\n",
    "                   'knnrg__weights':['uniform','distance']}\n",
    "\n",
    "cnf_matrix, cv = apply_model(X_all, y, pipeline_knnrg, parameters_knnrg, classification=0)"
   ]
  },
  {
   "cell_type": "code",
   "execution_count": null,
   "metadata": {
    "collapsed": true
   },
   "outputs": [],
   "source": [
    "# KNN Classification\n",
    "from sklearn.neighbors import KNeighborsClassifier\n",
    "\n",
    "steps_knncl = [('imputatoin', Imputer(missing_values='NaN', strategy='most_frequent', axis=0)),\n",
    "               ('scaler', StandardScaler()),\n",
    "               ('knncl', KNeighborsClassifier())]\n",
    "pipeline_knncl = Pipeline(steps_knncl)\n",
    "\n",
    "parameters_knncl = {'knncl__n_neighbors':np.arange(5,30, 5),\n",
    "                   'knncl__weights':['uniform','distance']}\n",
    "\n",
    "cnf_matrix, cv = apply_model(X_all, y, pipeline_knncl, parameters_knncl, classification=1)"
   ]
  },
  {
   "cell_type": "code",
   "execution_count": null,
   "metadata": {
    "collapsed": true
   },
   "outputs": [],
   "source": [
    "# Depict the coefficient plots\n",
    "#plot_coefficients(cv.best_estimator_.named_steps['lsvc'], feature_names_all)"
   ]
  },
  {
   "cell_type": "code",
   "execution_count": null,
   "metadata": {
    "collapsed": true
   },
   "outputs": [],
   "source": [
    "# SVM with mean imputation strategy using all the 47 numerical features --- SVC also has a probability option, pay attention to that\n",
    "# Setup the pipeline\n",
    "steps_svm_mean = [('imputatoin', Imputer(missing_values='NaN', strategy='mean', axis=0)),\n",
    "                  ('scaler', StandardScaler()),\n",
    "                  ('SVM', svm.SVC())]\n",
    "pipeline_svm_mean = Pipeline(steps_svm_mean)\n",
    "\n",
    "# Specify the hyperparameter space\n",
    "parameters = {'SVM__C':[0.01, 0.1, 1, 10, 100],\n",
    "              'SVM__gamma':[0.01, 0.1, 1, 10]}\n",
    "\n",
    "\n",
    "cnf_matrix = apply_model(X, y, pipeline_svm_mean, parameters)\n"
   ]
  },
  {
   "cell_type": "code",
   "execution_count": null,
   "metadata": {
    "collapsed": true
   },
   "outputs": [],
   "source": [
    "# Plot the confusion matrix\n",
    "class_names = ['1', '2', '3', '4', '5']\n",
    "plot_confusion_matrix(cnf_matrix, classes=class_names, normalize=True,\n",
    "                      title='Normalized confusion matrix')\n",
    "plt.show()"
   ]
  },
  {
   "cell_type": "code",
   "execution_count": null,
   "metadata": {
    "collapsed": true
   },
   "outputs": [],
   "source": [
    "# SVM with median imputation strategy using all the 47 numerical features\n",
    "# Setup the pipeline with a different imputation strategy\n",
    "steps_svm_median = [('imputatoin', Imputer(missing_values='NaN', strategy='median', axis=0)),\n",
    "                    ('scaler', StandardScaler()),\n",
    "                    ('SVM', svm.SVC())]\n",
    "pipeline_svm_median = Pipeline(steps_svm_median)\n",
    "\n",
    "cnf_matrix = apply_model(X, y, pipeline_svm_median, parameters)"
   ]
  },
  {
   "cell_type": "code",
   "execution_count": null,
   "metadata": {
    "collapsed": true
   },
   "outputs": [],
   "source": [
    "# Plot the confusion matrix\n",
    "class_names = ['1', '2', '3', '4', '5']\n",
    "plot_confusion_matrix(cnf_matrix, classes=class_names, normalize=True,\n",
    "                      title='Normalized confusion matrix')\n",
    "plt.show()"
   ]
  },
  {
   "cell_type": "code",
   "execution_count": null,
   "metadata": {
    "collapsed": true
   },
   "outputs": [],
   "source": [
    "# SVM with most frequent imputation strategy using all the 47 numerical features\n",
    "# Setup the pipeline with a different imputation strategy\n",
    "steps_svm_mf = [('imputatoin', Imputer(missing_values='NaN', strategy='most_frequent', axis=0)),\n",
    "                ('scaler', StandardScaler()),\n",
    "                ('SVM', svm.SVC(random_state=0))]\n",
    "pipeline_svm_mf = Pipeline(steps_svm_mf)\n",
    "\n",
    "# Specify the hyperparameter space\n",
    "parameters = {'SVM__C':[0.01, 0.1, 1, 10, 100],\n",
    "              'SVM__gamma':[0.01, 0.1, 1, 10]}\n",
    "\n",
    "\n",
    "#cnf_matrix = apply_model(X, y, pipeline_svm_mf, parameters)"
   ]
  },
  {
   "cell_type": "code",
   "execution_count": null,
   "metadata": {
    "collapsed": true
   },
   "outputs": [],
   "source": [
    "# Plot the confusion matrix\n",
    "class_names = ['1', '2', '3', '4', '5']\n",
    "plot_confusion_matrix(cnf_matrix, classes=class_names, normalize=True,\n",
    "                      title='Normalized confusion matrix')\n",
    "plt.show()"
   ]
  },
  {
   "cell_type": "code",
   "execution_count": null,
   "metadata": {
    "collapsed": true
   },
   "outputs": [],
   "source": [
    "# apply the model on all the features\n",
    "# Specify the hyperparameter space\n",
    "\n",
    "#parameters = {'SVM__C':[0.01, 0.1, 1, 10, 100],\n",
    "#              'SVM__gamma':[0.01, 0.1, 1, 10]}\n",
    "\n",
    "# Now fine tune the search space\n",
    "parameters = {'SVM__C':[0.8, 0.9, 1, 1.1, 1.3],\n",
    "              'SVM__gamma':[0.008, 0.009, 0.01, 0.02, 0.03]}\n",
    "cnf_matrix = apply_model(X_all, y, pipeline_svm_mf, parameters)\n",
    "\n",
    "\n",
    "parameters = {'SVM__C':[1.25, 1.3, 1.35, 1.4],\n",
    "              'SVM__gamma':[0.006, 0.007, 0.008, 0.0085]}\n",
    "cnf_matrix = apply_model(X_all, y, pipeline_svm_mf, parameters)\n"
   ]
  },
  {
   "cell_type": "code",
   "execution_count": null,
   "metadata": {
    "collapsed": true
   },
   "outputs": [],
   "source": [
    "# Plot the confusion matrix\n",
    "class_names = ['1', '2', '3', '4', '5']\n",
    "plot_confusion_matrix(cnf_matrix, classes=class_names, normalize=True,\n",
    "                      title='Normalized confusion matrix')\n",
    "plt.show()"
   ]
  },
  {
   "cell_type": "code",
   "execution_count": null,
   "metadata": {
    "collapsed": true
   },
   "outputs": [],
   "source": [
    "# Combination of PCA and SVM\n",
    "from sklearn import decomposition\n",
    "\n",
    "# Setup the pipeline\n",
    "steps_svm_pca = [('imputatoin', Imputer(missing_values='NaN', strategy='most_frequent', axis=0)),\n",
    "                 ('scaler', StandardScaler()),\n",
    "                 ('pca', decomposition.PCA()),\n",
    "                 ('SVM', svm.SVC())]\n",
    "pipeline_svm_pca = Pipeline(steps_svm_pca)\n",
    "\n",
    "# Specify the hyperparameter space\n",
    "parameters = {'SVM__C':[0.01, 0.1, 1, 10, 100],\n",
    "              #'SVM__kernel':['linear','rbf'],\n",
    "              'SVM__gamma':[0.01, 0.1, 1, 10],\n",
    "              'pca__n_components':[20, 40, 64]}\n",
    "\n",
    "apply_model(X_all, y, pipeline_svm_pca, parameters)\n"
   ]
  },
  {
   "cell_type": "code",
   "execution_count": null,
   "metadata": {
    "collapsed": true
   },
   "outputs": [],
   "source": [
    "# Specify the hyperparameter space\n",
    "parameters = {'SVM__C':[0.01, 0.1, 1, 10],\n",
    "              'SVM__gamma':[0.01, 0.1, 1, 10]}\n",
    "\n",
    "cnf_matrix = apply_model(X_all, y_three_ranks, pipeline_svm_mf, parameters)"
   ]
  },
  {
   "cell_type": "code",
   "execution_count": null,
   "metadata": {
    "collapsed": true
   },
   "outputs": [],
   "source": [
    "# Plot the confusion matrix\n",
    "class_names = ['1', '2', '3']\n",
    "plot_confusion_matrix(cnf_matrix, classes=class_names, normalize=True,\n",
    "                      title='Normalized confusion matrix')\n",
    "plt.show()"
   ]
  },
  {
   "cell_type": "code",
   "execution_count": null,
   "metadata": {
    "collapsed": true
   },
   "outputs": [],
   "source": [
    "# Play with some feature selection strategies\n",
    "#from sklearn import feature_selection\n",
    "from sklearn.feature_selection import SelectKBest\n",
    "from sklearn.feature_selection import f_classif, chi2, mutual_info_classif\n",
    "\n",
    " \n",
    "steps_svm_fs = [('imputatoin', Imputer(missing_values='NaN', strategy='most_frequent', axis=0)),\n",
    "                ('scaler', StandardScaler()),\n",
    "                ('anova', SelectKBest()),\n",
    "                ('SVM', svm.SVC())]\n",
    "pipeline_svm_fs = Pipeline(steps_svm_fs)\n",
    "\n",
    "# Specify the hyperparameter space\n",
    "parameters = {'SVM__C':[0.01, 0.1, 1, 10],\n",
    "              'SVM__gamma':[0.01, 0.1, 1, 10],\n",
    "              'anova__k':[10,20,40,80],\n",
    "              'anova__score_func':[f_classif, mutual_info_classif]}\n",
    "\n",
    "apply_model(X_all, y_three_ranks, pipeline_svm_fs, parameters)\n",
    "#apply_model(X_all, y, pipeline_svm_fs, parameters)"
   ]
  },
  {
   "cell_type": "code",
   "execution_count": null,
   "metadata": {
    "collapsed": true
   },
   "outputs": [],
   "source": [
    "apply_model(X_all, y, pipeline_svm_fs, parameters)"
   ]
  },
  {
   "cell_type": "code",
   "execution_count": null,
   "metadata": {
    "collapsed": true
   },
   "outputs": [],
   "source": [
    "# Feature selection with RFE seems to be taking a loooong time! \n",
    "\n",
    "# First do some linear SVM to select features\n",
    "#estimator = svm.SVC(kernel=\"linear\")\n",
    "#selector = feature_selection.RFE(estimator, 40)\n",
    "\n",
    "imp = Imputer(missing_values='NaN', strategy='most_frequent', axis=0)\n",
    "imp.fit(X_all)\n",
    "X_all = imp.transform(X_all)\n",
    "estimator = svm.SVC(kernel=\"linear\")\n",
    "selector = feature_selection.RFE(estimator, 5)\n",
    "X_all = selector.fit_transform(X_all,y)\n",
    "\n",
    "steps_svm_fs_2 = [#('imputatoin', Imputer(missing_values='NaN', strategy='most_frequent', axis=0)),\n",
    "                  #('feature_selection', selector),\n",
    "                  ('scaler', StandardScaler()),\n",
    "                  ('SVM', svm.SVC())]\n",
    "pipeline_svm_fs_2 = Pipeline(steps_svm_fs_2)\n",
    "\n",
    "# Specify the hyperparameter space\n",
    "parameters = {'SVM__C':[ 1],\n",
    "              'SVM__gamma':[0.01]}\n",
    "\n",
    "#apply_model(X_all, y, pipeline_svm_fs_2, parameters)\n"
   ]
  },
  {
   "cell_type": "markdown",
   "metadata": {
    "collapsed": true
   },
   "source": [
    "\"Look into nested cross-validation (discussed with Charlotte and also BalancedBagginClassifier\"\n",
    "\"The situation when the difference between train and validation error is high, but they are both small. Would this be considered underfitting?\n",
    "\"Think about the story telling\"\n",
    "\"in the context of my problem is it right that precision is more important than recall? Basically given a set of features the customer wants to know to which class the hospital belongs and how confident the model is\"\n",
    "\"CalibratedClassifierCV\", look into this if this can be of any use\n",
    "\"Try Random Forest with/ SMOTE Boosting\"\n",
    "\"XGBoost w/ hyperparameter optimization\"\n",
    "\"SVM w/ Cost sensitive training\"\n",
    "\"Make some class specific results\"\n",
    "\"Perform KNN (for regression and classification)\" KNeightborsRegressor\n",
    "\"Perform Random forest\" (also regression with it)\n",
    "\"Peform AdaBoost\" also for regression\n",
    "\"SVM for regression\"\n",
    "\"Look at SVC ensembe classifier\" \"Ensemble regressors\"\n",
    "\" Draw some ROC curvesTrue Positive vs. False Positives\". \n",
    "\"What is the best way to do that for multi-label classifications? and several parameters\"\n",
    "\"Or do presision-recall curve\"\n",
    "\"plot the confusion matrix inherent sklearn funcionality\"\n",
    "\"look at the sklearn for parameter range of C and gamma and try to change those\"\n",
    "\"Try desicion Tree\" \"Decision Tree with bagging\"\n",
    "\"Look into what is being missclassifed. Is there a pattern?\"\n",
    "\"Look into ensemble bootstrap techniques\"\n",
    "\"If I want probabilities at the end what classifier should I use?\"\n",
    "\"My labels are ordered integers. Could I use this information somehow?\"\n",
    "\"remove the highly correlated features based on the correlation matrix\", \"what about ICC and CCC matrices\"\n",
    "\"Bootstrapping with DS?\"\n",
    "\"Other classifiers to try LDA, KNN, MLP, RF\"\n",
    "\"How is KNN used for feature selection?\"\n",
    "\"By using the get_support on the pipeline object we can get the chosen features\"\n",
    "\"Now one qustion is that i first do some feature selection and train SVM. The other is how do I do feature selection with SVM (in the kernel version?)\"\n",
    "\"Try regression, Ranking SVM\"\n",
    "\"How about relevance vector machines\"\n",
    "\"Ordinal regression (using the mord package)\" (regression dor discrete values)\n",
    "\"Idea of nested cross-validation\"\n",
    "\"Cosider a plot that shows effect of the sample size\"\n",
    "\"Examine the impact of the size of the folds for cross-validation\"\n",
    "\"Use techniques to handle imbalanced data\": \"subdample, oversample, re-weight sample points, clustering to reduce majority class, recalibrate classifer output\"\n",
    "\"subsample for each tree in random forest\""
   ]
  },
  {
   "cell_type": "code",
   "execution_count": null,
   "metadata": {
    "collapsed": true
   },
   "outputs": [],
   "source": [
    "# Loop over and add one by one (computing all combination is not cost effective, therefore, we only add one-by-one)\n",
    "df_hospital.info()"
   ]
  }
 ],
 "metadata": {
  "kernelspec": {
   "display_name": "Python 3",
   "language": "python",
   "name": "python3"
  },
  "language_info": {
   "codemirror_mode": {
    "name": "ipython",
    "version": 3
   },
   "file_extension": ".py",
   "mimetype": "text/x-python",
   "name": "python",
   "nbconvert_exporter": "python",
   "pygments_lexer": "ipython3",
   "version": "3.6.3"
  }
 },
 "nbformat": 4,
 "nbformat_minor": 2
}
