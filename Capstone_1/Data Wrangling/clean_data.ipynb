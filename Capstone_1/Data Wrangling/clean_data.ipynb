{
 "cells": [
  {
   "cell_type": "code",
   "execution_count": 1,
   "metadata": {
    "collapsed": true
   },
   "outputs": [],
   "source": [
    "# Import the necessary packages\n",
    "import pandas as pd\n",
    "import numpy as np\n",
    "import matplotlib.pyplot as plt\n",
    "import os"
   ]
  },
  {
   "cell_type": "code",
   "execution_count": 2,
   "metadata": {},
   "outputs": [
    {
     "name": "stdout",
     "output_type": "stream",
     "text": [
      "C:\\Research\\Projects\\Internal_Selfstudy\\DSCT\\Capstone project 1\\hospital-surveys\\data\\raw\\HCAHPS - Hospital.csv\n",
      "   Provider ID                     Hospital Name                 Address  \\\n",
      "0        10001  SOUTHEAST ALABAMA MEDICAL CENTER  1108 ROSS CLARK CIRCLE   \n",
      "1        10001  SOUTHEAST ALABAMA MEDICAL CENTER  1108 ROSS CLARK CIRCLE   \n",
      "2        10001  SOUTHEAST ALABAMA MEDICAL CENTER  1108 ROSS CLARK CIRCLE   \n",
      "3        10001  SOUTHEAST ALABAMA MEDICAL CENTER  1108 ROSS CLARK CIRCLE   \n",
      "4        10001  SOUTHEAST ALABAMA MEDICAL CENTER  1108 ROSS CLARK CIRCLE   \n",
      "\n",
      "     City State  ZIP Code County Name  Phone Number     HCAHPS Measure ID  \\\n",
      "0  DOTHAN    AL     36301     HOUSTON    3347938701         H_STAR_RATING   \n",
      "1  DOTHAN    AL     36301     HOUSTON    3347938701       H_CLEAN_HSP_A_P   \n",
      "2  DOTHAN    AL     36301     HOUSTON    3347938701      H_CLEAN_HSP_SN_P   \n",
      "3  DOTHAN    AL     36301     HOUSTON    3347938701       H_CLEAN_HSP_U_P   \n",
      "4  DOTHAN    AL     36301     HOUSTON    3347938701  H_CLEAN_LINEAR_SCORE   \n",
      "\n",
      "                                     HCAHPS Question       ...         \\\n",
      "0                                Summary star rating       ...          \n",
      "1  Patients who reported that their room and bath...       ...          \n",
      "2  Patients who reported that their room and bath...       ...          \n",
      "3  Patients who reported that their room and bath...       ...          \n",
      "4                    Cleanliness - linear mean score       ...          \n",
      "\n",
      "  Patient Survey Star Rating Footnote HCAHPS Answer Percent  \\\n",
      "0                                 NaN        Not Applicable   \n",
      "1                                 NaN                    67   \n",
      "2                                 NaN                    12   \n",
      "3                                 NaN                    21   \n",
      "4                                 NaN        Not Applicable   \n",
      "\n",
      "  HCAHPS Answer Percent Footnote HCAHPS Linear Mean Value  \\\n",
      "0                            NaN           Not Applicable   \n",
      "1                            NaN           Not Applicable   \n",
      "2                            NaN           Not Applicable   \n",
      "3                            NaN           Not Applicable   \n",
      "4                            NaN                       84   \n",
      "\n",
      "  Number of Completed Surveys Number of Completed Surveys Footnote  \\\n",
      "0                        1332                                  NaN   \n",
      "1                        1332                                  NaN   \n",
      "2                        1332                                  NaN   \n",
      "3                        1332                                  NaN   \n",
      "4                        1332                                  NaN   \n",
      "\n",
      "  Survey Response Rate Percent Survey Response Rate Percent Footnote  \\\n",
      "0                           25                                   NaN   \n",
      "1                           25                                   NaN   \n",
      "2                           25                                   NaN   \n",
      "3                           25                                   NaN   \n",
      "4                           25                                   NaN   \n",
      "\n",
      "  Measure Start Date Measure End Date  \n",
      "0         01/01/2016       12/31/2016  \n",
      "1         01/01/2016       12/31/2016  \n",
      "2         01/01/2016       12/31/2016  \n",
      "3         01/01/2016       12/31/2016  \n",
      "4         01/01/2016       12/31/2016  \n",
      "\n",
      "[5 rows x 22 columns]\n"
     ]
    }
   ],
   "source": [
    "# Load 'HCAHPS - Hospital.csv' which contains the summary star ratings\n",
    "d = os.path.dirname(os.getcwd())\n",
    "data_file = os.path.join(d, 'data','raw','HCAHPS - Hospital.csv')\n",
    "print(data_file)\n",
    "survey_df = pd.read_csv(data_file, encoding = \"ISO-8859-1\")\n",
    "print(survey_df.head())\n"
   ]
  },
  {
   "cell_type": "code",
   "execution_count": 3,
   "metadata": {},
   "outputs": [
    {
     "name": "stdout",
     "output_type": "stream",
     "text": [
      "22\n",
      "<class 'pandas.core.frame.DataFrame'>\n",
      "RangeIndex: 264660 entries, 0 to 264659\n",
      "Data columns (total 22 columns):\n",
      "Provider ID                              264660 non-null int64\n",
      "Hospital Name                            264660 non-null object\n",
      "Address                                  264660 non-null object\n",
      "City                                     264660 non-null object\n",
      "State                                    264660 non-null object\n",
      "ZIP Code                                 264660 non-null int64\n",
      "County Name                              263835 non-null object\n",
      "Phone Number                             264660 non-null int64\n",
      "HCAHPS Measure ID                        264660 non-null object\n",
      "HCAHPS Question                          264660 non-null object\n",
      "HCAHPS Answer Description                264660 non-null object\n",
      "Patient Survey Star Rating               264660 non-null object\n",
      "Patient Survey Star Rating Footnote      15864 non-null object\n",
      "HCAHPS Answer Percent                    264660 non-null object\n",
      "HCAHPS Answer Percent Footnote           48160 non-null object\n",
      "HCAHPS Linear Mean Value                 264660 non-null object\n",
      "Number of Completed Surveys              264660 non-null object\n",
      "Number of Completed Surveys Footnote     82775 non-null object\n",
      "Survey Response Rate Percent             264660 non-null object\n",
      "Survey Response Rate Percent Footnote    82775 non-null object\n",
      "Measure Start Date                       264660 non-null object\n",
      "Measure End Date                         264660 non-null object\n",
      "dtypes: int64(3), object(19)\n",
      "memory usage: 44.4+ MB\n",
      "None\n"
     ]
    }
   ],
   "source": [
    "# Get some general information about the dataframe\n",
    "print(len(survey_df.columns))\n",
    "print(survey_df.info())"
   ]
  },
  {
   "cell_type": "code",
   "execution_count": 4,
   "metadata": {},
   "outputs": [
    {
     "name": "stdout",
     "output_type": "stream",
     "text": [
      "   Provider ID                     Hospital Name    City State  ZIP Code  \\\n",
      "0        10001  SOUTHEAST ALABAMA MEDICAL CENTER  DOTHAN    AL     36301   \n",
      "1        10001  SOUTHEAST ALABAMA MEDICAL CENTER  DOTHAN    AL     36301   \n",
      "2        10001  SOUTHEAST ALABAMA MEDICAL CENTER  DOTHAN    AL     36301   \n",
      "3        10001  SOUTHEAST ALABAMA MEDICAL CENTER  DOTHAN    AL     36301   \n",
      "4        10001  SOUTHEAST ALABAMA MEDICAL CENTER  DOTHAN    AL     36301   \n",
      "\n",
      "               HCAHPS Answer Description Patient Survey Star Rating  \n",
      "0                    Summary star rating                          3  \n",
      "1                Room was \"always\" clean             Not Applicable  \n",
      "2  Room was \"sometimes\" or \"never\" clean             Not Applicable  \n",
      "3               Room was \"usually\" clean             Not Applicable  \n",
      "4        Cleanliness - linear mean score             Not Applicable  \n"
     ]
    }
   ],
   "source": [
    "# Start cleaning\n",
    "# Select relevant columns\n",
    "survey_df_clean = survey_df[['Provider ID','Hospital Name','City', 'State', 'ZIP Code', 'HCAHPS Answer Description','Patient Survey Star Rating']]\n",
    "print(survey_df_clean.head())"
   ]
  },
  {
   "cell_type": "code",
   "execution_count": 5,
   "metadata": {},
   "outputs": [
    {
     "name": "stdout",
     "output_type": "stream",
     "text": [
      "     Provider ID                     Hospital Name      City State  ZIP Code  \\\n",
      "0          10001  SOUTHEAST ALABAMA MEDICAL CENTER    DOTHAN    AL     36301   \n",
      "55         10005     MARSHALL MEDICAL CENTER SOUTH      BOAZ    AL     35957   \n",
      "110        10006    ELIZA COFFEE MEMORIAL HOSPITAL  FLORENCE    AL     35631   \n",
      "165        10007          MIZELL MEMORIAL HOSPITAL       OPP    AL     36467   \n",
      "220        10008       CRENSHAW COMMUNITY HOSPITAL   LUVERNE    AL     36049   \n",
      "\n",
      "    HCAHPS Answer Description Patient Survey Star Rating  \n",
      "0         Summary star rating                          3  \n",
      "55        Summary star rating                          4  \n",
      "110       Summary star rating                          3  \n",
      "165       Summary star rating                          4  \n",
      "220       Summary star rating              Not Available  \n",
      "<class 'pandas.core.frame.DataFrame'>\n",
      "Int64Index: 4812 entries, 0 to 264605\n",
      "Data columns (total 7 columns):\n",
      "Provider ID                   4812 non-null int64\n",
      "Hospital Name                 4812 non-null object\n",
      "City                          4812 non-null object\n",
      "State                         4812 non-null object\n",
      "ZIP Code                      4812 non-null int64\n",
      "HCAHPS Answer Description     4812 non-null object\n",
      "Patient Survey Star Rating    4812 non-null object\n",
      "dtypes: int64(2), object(5)\n",
      "memory usage: 300.8+ KB\n",
      "None\n"
     ]
    }
   ],
   "source": [
    "# Select only rows that contains summary start ratings\n",
    "survey_df_clean = survey_df_clean[survey_df_clean['HCAHPS Answer Description'] == 'Summary star rating']\n",
    "print(survey_df_clean.head())\n",
    "print(survey_df_clean.info())"
   ]
  },
  {
   "cell_type": "code",
   "execution_count": 6,
   "metadata": {},
   "outputs": [
    {
     "name": "stdout",
     "output_type": "stream",
     "text": [
      "     Provider ID                     Hospital Name      City State  ZIP Code  \\\n",
      "0          10001  SOUTHEAST ALABAMA MEDICAL CENTER    DOTHAN    AL     36301   \n",
      "55         10005     MARSHALL MEDICAL CENTER SOUTH      BOAZ    AL     35957   \n",
      "110        10006    ELIZA COFFEE MEMORIAL HOSPITAL  FLORENCE    AL     35631   \n",
      "165        10007          MIZELL MEMORIAL HOSPITAL       OPP    AL     36467   \n",
      "220        10008       CRENSHAW COMMUNITY HOSPITAL   LUVERNE    AL     36049   \n",
      "\n",
      "    Patient Survey Star Rating  \n",
      "0                            3  \n",
      "55                           4  \n",
      "110                          3  \n",
      "165                          4  \n",
      "220              Not Available  \n"
     ]
    }
   ],
   "source": [
    "# Delete column 'HCAHPS Answer Description' \n",
    "survey_df_clean.drop('HCAHPS Answer Description', axis=1, inplace=True)\n",
    "print(survey_df_clean.head())"
   ]
  },
  {
   "cell_type": "code",
   "execution_count": 7,
   "metadata": {},
   "outputs": [
    {
     "name": "stdout",
     "output_type": "stream",
     "text": [
      "     Provider ID                     Hospital Name      City State  ZIP Code  \\\n",
      "0          10001  SOUTHEAST ALABAMA MEDICAL CENTER    DOTHAN    AL     36301   \n",
      "55         10005     MARSHALL MEDICAL CENTER SOUTH      BOAZ    AL     35957   \n",
      "110        10006    ELIZA COFFEE MEMORIAL HOSPITAL  FLORENCE    AL     35631   \n",
      "165        10007          MIZELL MEMORIAL HOSPITAL       OPP    AL     36467   \n",
      "220        10008       CRENSHAW COMMUNITY HOSPITAL   LUVERNE    AL     36049   \n",
      "\n",
      "    Summary star rating  \n",
      "0                     3  \n",
      "55                    4  \n",
      "110                   3  \n",
      "165                   4  \n",
      "220       Not Available  \n"
     ]
    }
   ],
   "source": [
    "# Rename the column 'Patient Survey Star Rating' to 'Summary star rating'\n",
    "survey_df_clean.rename(columns = {'Patient Survey Star Rating':'Summary star rating'}, inplace=True)\n",
    "print(survey_df_clean.head())"
   ]
  },
  {
   "cell_type": "code",
   "execution_count": 8,
   "metadata": {},
   "outputs": [
    {
     "name": "stdout",
     "output_type": "stream",
     "text": [
      "3                1380\n",
      "4                1335\n",
      "Not Available    1322\n",
      "2                 525\n",
      "5                 195\n",
      "1                  55\n",
      "Name: Summary star rating, dtype: int64\n"
     ]
    },
    {
     "data": {
      "image/png": "[encoded data removed]",
      "text/plain": [
       "<matplotlib.figure.Figure at 0x9f1e6640f0>"
      ]
     },
     "metadata": {},
     "output_type": "display_data"
    }
   ],
   "source": [
    "# Make a piechart to get a feel on the distribution of ratings\n",
    "print(survey_df_clean['Summary star rating'].value_counts())\n",
    "survey_df_clean['Summary star rating'].value_counts().plot.pie(figsize=(6, 6),autopct=\"%1.1f%%\")\n",
    "plt.ylabel('')\n",
    "plt.show()"
   ]
  },
  {
   "cell_type": "code",
   "execution_count": 9,
   "metadata": {},
   "outputs": [
    {
     "name": "stdout",
     "output_type": "stream",
     "text": [
      "1322\n"
     ]
    }
   ],
   "source": [
    "# Examine the Not Available values -> We notice that the unreported ratings are due to insufficient number of surveys\n",
    "survey_df_less = survey_df[survey_df['HCAHPS Answer Description'] == 'Summary star rating']\n",
    "survey_df_less = survey_df_less[survey_df_less['Patient Survey Star Rating'] == 'Not Available']\n",
    "print(len(survey_df_less['Patient Survey Star Rating Footnote']=='15 - The number of cases/patients is too few to report a star rating.'))"
   ]
  },
  {
   "cell_type": "code",
   "execution_count": 10,
   "metadata": {},
   "outputs": [
    {
     "name": "stdout",
     "output_type": "stream",
     "text": [
      "3    1380\n",
      "4    1335\n",
      "2     525\n",
      "5     195\n",
      "1      55\n",
      "Name: Summary star rating, dtype: int64\n"
     ]
    },
    {
     "data": {
      "image/png": "[encoded data removed]",
      "text/plain": [
       "<matplotlib.figure.Figure at 0x9f1e92ac88>"
      ]
     },
     "metadata": {},
     "output_type": "display_data"
    },
    {
     "name": "stdout",
     "output_type": "stream",
     "text": [
      "<class 'pandas.core.frame.DataFrame'>\n",
      "Int64Index: 3490 entries, 0 to 264110\n",
      "Data columns (total 6 columns):\n",
      "Provider ID            3490 non-null int64\n",
      "Hospital Name          3490 non-null object\n",
      "City                   3490 non-null object\n",
      "State                  3490 non-null object\n",
      "ZIP Code               3490 non-null int64\n",
      "Summary star rating    3490 non-null object\n",
      "dtypes: int64(2), object(4)\n",
      "memory usage: 190.9+ KB\n",
      "None\n"
     ]
    }
   ],
   "source": [
    "# Drop the hospitals with no ratings available\n",
    "survey_df_clean.drop(survey_df_clean[survey_df_clean['Summary star rating']=='Not Available'].index, inplace=True)\n",
    "print(survey_df_clean['Summary star rating'].value_counts())\n",
    "survey_df_clean['Summary star rating'].value_counts().plot.pie(figsize=(6, 6),autopct=\"%1.1f%%\")\n",
    "plt.ylabel('')\n",
    "plt.show()\n",
    "print(survey_df_clean.info())"
   ]
  },
  {
   "cell_type": "code",
   "execution_count": 11,
   "metadata": {
    "scrolled": true
   },
   "outputs": [
    {
     "name": "stdout",
     "output_type": "stream",
     "text": [
      "C:\\Research\\Projects\\Internal_Selfstudy\\DSCT\\Capstone project 1\\hospital-surveys\\data\\raw\\Hospital General Information.csv\n",
      "   Provider ID                     Hospital Name                     Address  \\\n",
      "0        10001  SOUTHEAST ALABAMA MEDICAL CENTER      1108 ROSS CLARK CIRCLE   \n",
      "1        10005     MARSHALL MEDICAL CENTER SOUTH  2505 U S HIGHWAY 431 NORTH   \n",
      "2        10006    ELIZA COFFEE MEMORIAL HOSPITAL          205 MARENGO STREET   \n",
      "3        10007          MIZELL MEMORIAL HOSPITAL               702 N MAIN ST   \n",
      "4        10008       CRENSHAW COMMUNITY HOSPITAL         101 HOSPITAL CIRCLE   \n",
      "\n",
      "       City State  ZIP Code County Name  Phone Number         Hospital Type  \\\n",
      "0    DOTHAN    AL     36301     HOUSTON    3347938701  Acute Care Hospitals   \n",
      "1      BOAZ    AL     35957    MARSHALL    2565938310  Acute Care Hospitals   \n",
      "2  FLORENCE    AL     35631  LAUDERDALE    2567688400  Acute Care Hospitals   \n",
      "3       OPP    AL     36467   COVINGTON    3344933541  Acute Care Hospitals   \n",
      "4   LUVERNE    AL     36049    CRENSHAW    3343353374  Acute Care Hospitals   \n",
      "\n",
      "                            Hospital Ownership  \\\n",
      "0  Government - Hospital District or Authority   \n",
      "1  Government - Hospital District or Authority   \n",
      "2  Government - Hospital District or Authority   \n",
      "3               Voluntary non-profit - Private   \n",
      "4                                  Proprietary   \n",
      "\n",
      "                               ...                               \\\n",
      "0                              ...                                \n",
      "1                              ...                                \n",
      "2                              ...                                \n",
      "3                              ...                                \n",
      "4                              ...                                \n",
      "\n",
      "  Readmission national comparison Readmission national comparison footnote  \\\n",
      "0    Same as the national average                                      NaN   \n",
      "1      Above the national average                                      NaN   \n",
      "2    Same as the national average                                      NaN   \n",
      "3      Below the national average                                      NaN   \n",
      "4    Same as the national average                                      NaN   \n",
      "\n",
      "  Patient experience national comparison  \\\n",
      "0             Below the national average   \n",
      "1           Same as the national average   \n",
      "2             Below the national average   \n",
      "3           Same as the national average   \n",
      "4                          Not Available   \n",
      "\n",
      "     Patient experience national comparison footnote  \\\n",
      "0                                                NaN   \n",
      "1                                                NaN   \n",
      "2                                                NaN   \n",
      "3                                                NaN   \n",
      "4  Results are not available for this reporting p...   \n",
      "\n",
      "  Effectiveness of care national comparison  \\\n",
      "0              Same as the national average   \n",
      "1              Same as the national average   \n",
      "2              Same as the national average   \n",
      "3                Below the national average   \n",
      "4              Same as the national average   \n",
      "\n",
      "  Effectiveness of care national comparison footnote  \\\n",
      "0                                                NaN   \n",
      "1                                                NaN   \n",
      "2                                                NaN   \n",
      "3                                                NaN   \n",
      "4                                                NaN   \n",
      "\n",
      "  Timeliness of care national comparison  \\\n",
      "0           Same as the national average   \n",
      "1             Above the national average   \n",
      "2             Above the national average   \n",
      "3             Above the national average   \n",
      "4             Above the national average   \n",
      "\n",
      "  Timeliness of care national comparison footnote  \\\n",
      "0                                             NaN   \n",
      "1                                             NaN   \n",
      "2                                             NaN   \n",
      "3                                             NaN   \n",
      "4                                             NaN   \n",
      "\n",
      "  Efficient use of medical imaging national comparison  \\\n",
      "0                       Same as the national average     \n",
      "1                         Below the national average     \n",
      "2                       Same as the national average     \n",
      "3                                      Not Available     \n",
      "4                                      Not Available     \n",
      "\n",
      "  Efficient use of medical imaging national comparison footnote  \n",
      "0                                                NaN             \n",
      "1                                                NaN             \n",
      "2                                                NaN             \n",
      "3  Results are not available for this reporting p...             \n",
      "4  Results are not available for this reporting p...             \n",
      "\n",
      "[5 rows x 28 columns]\n"
     ]
    }
   ],
   "source": [
    "# Load 'Hospital General information.csv'\n",
    "data_file2 = os.path.join(d, 'data','raw','Hospital General Information.csv')\n",
    "print(data_file2)\n",
    "general_df = pd.read_csv(data_file2, encoding = \"ISO-8859-1\")\n",
    "print(general_df.head())"
   ]
  },
  {
   "cell_type": "code",
   "execution_count": 12,
   "metadata": {},
   "outputs": [
    {
     "name": "stdout",
     "output_type": "stream",
     "text": [
      "28\n",
      "<class 'pandas.core.frame.DataFrame'>\n",
      "RangeIndex: 4812 entries, 0 to 4811\n",
      "Data columns (total 28 columns):\n",
      "Provider ID                                                      4812 non-null int64\n",
      "Hospital Name                                                    4812 non-null object\n",
      "Address                                                          4812 non-null object\n",
      "City                                                             4812 non-null object\n",
      "State                                                            4812 non-null object\n",
      "ZIP Code                                                         4812 non-null int64\n",
      "County Name                                                      4797 non-null object\n",
      "Phone Number                                                     4812 non-null int64\n",
      "Hospital Type                                                    4812 non-null object\n",
      "Hospital Ownership                                               4812 non-null object\n",
      "Emergency Services                                               4812 non-null object\n",
      "Meets criteria for meaningful use of EHRs                        4661 non-null object\n",
      "Hospital overall rating                                          4812 non-null object\n",
      "Hospital overall rating footnote                                 1405 non-null object\n",
      "Mortality national comparison                                    4812 non-null object\n",
      "Mortality national comparison footnote                           1359 non-null object\n",
      "Safety of care national comparison                               4812 non-null object\n",
      "Safety of care national comparison footnote                      2172 non-null object\n",
      "Readmission national comparison                                  4812 non-null object\n",
      "Readmission national comparison footnote                         1025 non-null object\n",
      "Patient experience national comparison                           4812 non-null object\n",
      "Patient experience national comparison footnote                  1375 non-null object\n",
      "Effectiveness of care national comparison                        4812 non-null object\n",
      "Effectiveness of care national comparison footnote               1211 non-null object\n",
      "Timeliness of care national comparison                           4812 non-null object\n",
      "Timeliness of care national comparison footnote                  1282 non-null object\n",
      "Efficient use of medical imaging national comparison             4812 non-null object\n",
      "Efficient use of medical imaging national comparison footnote    2038 non-null object\n",
      "dtypes: int64(3), object(25)\n",
      "memory usage: 1.0+ MB\n",
      "None\n"
     ]
    }
   ],
   "source": [
    "# Get some general information about the dataframe\n",
    "print(len(general_df.columns))\n",
    "print(general_df.info())"
   ]
  },
  {
   "cell_type": "code",
   "execution_count": 13,
   "metadata": {},
   "outputs": [
    {
     "name": "stdout",
     "output_type": "stream",
     "text": [
      "   Provider ID         Hospital Type  \\\n",
      "0        10001  Acute Care Hospitals   \n",
      "1        10005  Acute Care Hospitals   \n",
      "2        10006  Acute Care Hospitals   \n",
      "3        10007  Acute Care Hospitals   \n",
      "4        10008  Acute Care Hospitals   \n",
      "\n",
      "                            Hospital Ownership Emergency Services  \\\n",
      "0  Government - Hospital District or Authority                Yes   \n",
      "1  Government - Hospital District or Authority                Yes   \n",
      "2  Government - Hospital District or Authority                Yes   \n",
      "3               Voluntary non-profit - Private                Yes   \n",
      "4                                  Proprietary                Yes   \n",
      "\n",
      "  Meets criteria for meaningful use of EHRs Mortality national comparison  \\\n",
      "0                                         Y  Same as the national average   \n",
      "1                                         Y    Below the national average   \n",
      "2                                         Y    Below the national average   \n",
      "3                                         Y  Same as the national average   \n",
      "4                                         Y  Same as the national average   \n",
      "\n",
      "  Safety of care national comparison Readmission national comparison  \\\n",
      "0         Above the national average    Same as the national average   \n",
      "1       Same as the national average      Above the national average   \n",
      "2       Same as the national average    Same as the national average   \n",
      "3                      Not Available      Below the national average   \n",
      "4                      Not Available    Same as the national average   \n",
      "\n",
      "  Effectiveness of care national comparison  \\\n",
      "0              Same as the national average   \n",
      "1              Same as the national average   \n",
      "2              Same as the national average   \n",
      "3                Below the national average   \n",
      "4              Same as the national average   \n",
      "\n",
      "  Timeliness of care national comparison  \\\n",
      "0           Same as the national average   \n",
      "1             Above the national average   \n",
      "2             Above the national average   \n",
      "3             Above the national average   \n",
      "4             Above the national average   \n",
      "\n",
      "  Efficient use of medical imaging national comparison  \n",
      "0                       Same as the national average    \n",
      "1                         Below the national average    \n",
      "2                       Same as the national average    \n",
      "3                                      Not Available    \n",
      "4                                      Not Available    \n",
      "<class 'pandas.core.frame.DataFrame'>\n",
      "Int64Index: 3490 entries, 0 to 3489\n",
      "Data columns (total 16 columns):\n",
      "Provider ID                                             3490 non-null int64\n",
      "Hospital Name                                           3490 non-null object\n",
      "City                                                    3490 non-null object\n",
      "State                                                   3490 non-null object\n",
      "ZIP Code                                                3490 non-null int64\n",
      "Summary star rating                                     3490 non-null object\n",
      "Hospital Type                                           3490 non-null object\n",
      "Hospital Ownership                                      3490 non-null object\n",
      "Emergency Services                                      3490 non-null object\n",
      "Meets criteria for meaningful use of EHRs               3464 non-null object\n",
      "Mortality national comparison                           3490 non-null object\n",
      "Safety of care national comparison                      3490 non-null object\n",
      "Readmission national comparison                         3490 non-null object\n",
      "Effectiveness of care national comparison               3490 non-null object\n",
      "Timeliness of care national comparison                  3490 non-null object\n",
      "Efficient use of medical imaging national comparison    3490 non-null object\n",
      "dtypes: int64(2), object(14)\n",
      "memory usage: 463.5+ KB\n",
      "None\n"
     ]
    }
   ],
   "source": [
    "# select columns from the hospital general dataframe\n",
    "general_df_less = general_df[['Provider ID','Hospital Type', 'Hospital Ownership',\n",
    "                             'Emergency Services','Meets criteria for meaningful use of EHRs',\n",
    "                             'Mortality national comparison', 'Safety of care national comparison',\n",
    "                             'Readmission national comparison','Effectiveness of care national comparison',\n",
    "                             'Timeliness of care national comparison','Efficient use of medical imaging national comparison']]\n",
    "print(general_df_less.head())\n",
    "# This is by default an inner join\n",
    "survey_df_clean = pd.merge(survey_df_clean, general_df_less, on = 'Provider ID')\n",
    "print(survey_df_clean.info())"
   ]
  }
 ],
 "metadata": {
  "kernelspec": {
   "display_name": "Python 3",
   "language": "python",
   "name": "python3"
  },
  "language_info": {
   "codemirror_mode": {
    "name": "ipython",
    "version": 3
   },
   "file_extension": ".py",
   "mimetype": "text/x-python",
   "name": "python",
   "nbconvert_exporter": "python",
   "pygments_lexer": "ipython3",
   "version": "3.6.3"
  }
 },
 "nbformat": 4,
 "nbformat_minor": 2
}
